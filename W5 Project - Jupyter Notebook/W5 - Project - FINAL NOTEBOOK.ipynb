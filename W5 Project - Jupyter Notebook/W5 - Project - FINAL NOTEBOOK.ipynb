{
 "cells": [
  {
   "cell_type": "markdown",
   "metadata": {},
   "source": [
    "# W5 Project -Regression\n",
    "\n",
    "**Background**: You are working as an analyst for a real estate company. Your company wants to build a machine learning model to predict the selling prices of houses based on a variety of features on which the value of the house is evaluated.\n",
    "\n",
    "**Objective**: The task is to build a model that will predict the price of a house based on features provided in the dataset. The senior management also wants to explore the characteristics of the houses using some business intelligence tool. One of those parameters include understanding which factors are responsible for higher property value - \\$650K and above.\n",
    "The questions have been provided later in the document for which you can use tableau."
   ]
  },
  {
   "cell_type": "markdown",
   "metadata": {},
   "source": [
    "# 1. Import libraries"
   ]
  },
  {
   "cell_type": "code",
   "execution_count": 1,
   "metadata": {},
   "outputs": [
    {
     "name": "stdout",
     "output_type": "stream",
     "text": [
      "········\n"
     ]
    }
   ],
   "source": [
    "import sqlalchemy\n",
    "import pymysql\n",
    "from sqlalchemy import create_engine\n",
    "import pandas as pd\n",
    "import matplotlib.pyplot as plt\n",
    "import seaborn as sns\n",
    "import numpy as np\n",
    "#sns.set_style(\"whitegrid\")\n",
    "\n",
    "from scipy.stats import skew\n",
    "\n",
    "from sklearn.preprocessing import StandardScaler\n",
    "\n",
    "from sklearn.model_selection import train_test_split\n",
    "\n",
    "from sklearn import linear_model\n",
    "from sklearn.linear_model import LinearRegression\n",
    "from sklearn.metrics import mean_absolute_error, mean_squared_error, r2_score\n",
    "\n",
    "import getpass  # To get the password without showing the input\n",
    "password = getpass.getpass()"
   ]
  },
  {
   "cell_type": "markdown",
   "metadata": {},
   "source": [
    "# 2. Establishing the connection with MySQL and getting a Panda's dataframe (df) called \"data\" out of a MySQL query"
   ]
  },
  {
   "cell_type": "code",
   "execution_count": 2,
   "metadata": {},
   "outputs": [],
   "source": [
    "connection_string = 'mysql+pymysql://root:' + password + '@localhost/house_price_regression'\n",
    "engine = create_engine(connection_string)"
   ]
  },
  {
   "cell_type": "markdown",
   "metadata": {},
   "source": [
    "# 3. Importing Data from SQL Queries "
   ]
  },
  {
   "cell_type": "code",
   "execution_count": 3,
   "metadata": {},
   "outputs": [
    {
     "data": {
      "text/html": [
       "<div>\n",
       "<style scoped>\n",
       "    .dataframe tbody tr th:only-of-type {\n",
       "        vertical-align: middle;\n",
       "    }\n",
       "\n",
       "    .dataframe tbody tr th {\n",
       "        vertical-align: top;\n",
       "    }\n",
       "\n",
       "    .dataframe thead th {\n",
       "        text-align: right;\n",
       "    }\n",
       "</style>\n",
       "<table border=\"1\" class=\"dataframe\">\n",
       "  <thead>\n",
       "    <tr style=\"text-align: right;\">\n",
       "      <th></th>\n",
       "      <th>house_id</th>\n",
       "      <th>bedrooms</th>\n",
       "      <th>bathrooms</th>\n",
       "      <th>sqft_living</th>\n",
       "      <th>sqft_lot</th>\n",
       "      <th>floors</th>\n",
       "      <th>waterfront</th>\n",
       "      <th>views</th>\n",
       "      <th>house_condition</th>\n",
       "      <th>grade</th>\n",
       "      <th>sqft_above</th>\n",
       "      <th>sqft_basement</th>\n",
       "      <th>yr_built</th>\n",
       "      <th>yr_renovated</th>\n",
       "      <th>zipcode</th>\n",
       "      <th>latitude</th>\n",
       "      <th>longitude</th>\n",
       "      <th>sqft_living15</th>\n",
       "      <th>sqft_lot15</th>\n",
       "      <th>price</th>\n",
       "    </tr>\n",
       "  </thead>\n",
       "  <tbody>\n",
       "    <tr>\n",
       "      <th>0</th>\n",
       "      <td>1000102</td>\n",
       "      <td>6</td>\n",
       "      <td>3.00</td>\n",
       "      <td>2400</td>\n",
       "      <td>9373</td>\n",
       "      <td>2.0</td>\n",
       "      <td>0</td>\n",
       "      <td>0</td>\n",
       "      <td>3</td>\n",
       "      <td>7</td>\n",
       "      <td>2400</td>\n",
       "      <td>0</td>\n",
       "      <td>1991</td>\n",
       "      <td>0</td>\n",
       "      <td>98002</td>\n",
       "      <td>47.3262</td>\n",
       "      <td>-122.214</td>\n",
       "      <td>2060</td>\n",
       "      <td>7316</td>\n",
       "      <td>280000</td>\n",
       "    </tr>\n",
       "    <tr>\n",
       "      <th>1</th>\n",
       "      <td>100100050</td>\n",
       "      <td>3</td>\n",
       "      <td>1.00</td>\n",
       "      <td>1320</td>\n",
       "      <td>11090</td>\n",
       "      <td>1.0</td>\n",
       "      <td>0</td>\n",
       "      <td>0</td>\n",
       "      <td>3</td>\n",
       "      <td>7</td>\n",
       "      <td>1320</td>\n",
       "      <td>0</td>\n",
       "      <td>1955</td>\n",
       "      <td>0</td>\n",
       "      <td>98155</td>\n",
       "      <td>47.7748</td>\n",
       "      <td>-122.304</td>\n",
       "      <td>1320</td>\n",
       "      <td>8319</td>\n",
       "      <td>275000</td>\n",
       "    </tr>\n",
       "    <tr>\n",
       "      <th>2</th>\n",
       "      <td>1001200035</td>\n",
       "      <td>3</td>\n",
       "      <td>1.00</td>\n",
       "      <td>1350</td>\n",
       "      <td>7973</td>\n",
       "      <td>1.5</td>\n",
       "      <td>0</td>\n",
       "      <td>0</td>\n",
       "      <td>3</td>\n",
       "      <td>7</td>\n",
       "      <td>1350</td>\n",
       "      <td>0</td>\n",
       "      <td>1954</td>\n",
       "      <td>0</td>\n",
       "      <td>98188</td>\n",
       "      <td>47.4323</td>\n",
       "      <td>-122.292</td>\n",
       "      <td>1310</td>\n",
       "      <td>7491</td>\n",
       "      <td>272450</td>\n",
       "    </tr>\n",
       "    <tr>\n",
       "      <th>3</th>\n",
       "      <td>1001200050</td>\n",
       "      <td>4</td>\n",
       "      <td>1.50</td>\n",
       "      <td>1260</td>\n",
       "      <td>7248</td>\n",
       "      <td>1.5</td>\n",
       "      <td>0</td>\n",
       "      <td>0</td>\n",
       "      <td>5</td>\n",
       "      <td>7</td>\n",
       "      <td>1260</td>\n",
       "      <td>0</td>\n",
       "      <td>1955</td>\n",
       "      <td>0</td>\n",
       "      <td>98188</td>\n",
       "      <td>47.4330</td>\n",
       "      <td>-122.292</td>\n",
       "      <td>1300</td>\n",
       "      <td>7732</td>\n",
       "      <td>259000</td>\n",
       "    </tr>\n",
       "    <tr>\n",
       "      <th>4</th>\n",
       "      <td>1003000175</td>\n",
       "      <td>3</td>\n",
       "      <td>1.00</td>\n",
       "      <td>980</td>\n",
       "      <td>7606</td>\n",
       "      <td>1.0</td>\n",
       "      <td>0</td>\n",
       "      <td>0</td>\n",
       "      <td>3</td>\n",
       "      <td>7</td>\n",
       "      <td>980</td>\n",
       "      <td>0</td>\n",
       "      <td>1954</td>\n",
       "      <td>0</td>\n",
       "      <td>98188</td>\n",
       "      <td>47.4356</td>\n",
       "      <td>-122.290</td>\n",
       "      <td>980</td>\n",
       "      <td>8125</td>\n",
       "      <td>221000</td>\n",
       "    </tr>\n",
       "    <tr>\n",
       "      <th>...</th>\n",
       "      <td>...</td>\n",
       "      <td>...</td>\n",
       "      <td>...</td>\n",
       "      <td>...</td>\n",
       "      <td>...</td>\n",
       "      <td>...</td>\n",
       "      <td>...</td>\n",
       "      <td>...</td>\n",
       "      <td>...</td>\n",
       "      <td>...</td>\n",
       "      <td>...</td>\n",
       "      <td>...</td>\n",
       "      <td>...</td>\n",
       "      <td>...</td>\n",
       "      <td>...</td>\n",
       "      <td>...</td>\n",
       "      <td>...</td>\n",
       "      <td>...</td>\n",
       "      <td>...</td>\n",
       "      <td>...</td>\n",
       "    </tr>\n",
       "    <tr>\n",
       "      <th>21415</th>\n",
       "      <td>993002177</td>\n",
       "      <td>3</td>\n",
       "      <td>2.50</td>\n",
       "      <td>1380</td>\n",
       "      <td>1547</td>\n",
       "      <td>3.0</td>\n",
       "      <td>0</td>\n",
       "      <td>0</td>\n",
       "      <td>3</td>\n",
       "      <td>8</td>\n",
       "      <td>1380</td>\n",
       "      <td>0</td>\n",
       "      <td>2000</td>\n",
       "      <td>0</td>\n",
       "      <td>98103</td>\n",
       "      <td>47.6908</td>\n",
       "      <td>-122.341</td>\n",
       "      <td>1380</td>\n",
       "      <td>1465</td>\n",
       "      <td>345000</td>\n",
       "    </tr>\n",
       "    <tr>\n",
       "      <th>21416</th>\n",
       "      <td>993002225</td>\n",
       "      <td>3</td>\n",
       "      <td>2.25</td>\n",
       "      <td>1520</td>\n",
       "      <td>1245</td>\n",
       "      <td>3.0</td>\n",
       "      <td>0</td>\n",
       "      <td>0</td>\n",
       "      <td>3</td>\n",
       "      <td>8</td>\n",
       "      <td>1520</td>\n",
       "      <td>0</td>\n",
       "      <td>2004</td>\n",
       "      <td>0</td>\n",
       "      <td>98103</td>\n",
       "      <td>47.6907</td>\n",
       "      <td>-122.340</td>\n",
       "      <td>1520</td>\n",
       "      <td>1470</td>\n",
       "      <td>405000</td>\n",
       "    </tr>\n",
       "    <tr>\n",
       "      <th>21417</th>\n",
       "      <td>993002247</td>\n",
       "      <td>3</td>\n",
       "      <td>2.25</td>\n",
       "      <td>1550</td>\n",
       "      <td>1469</td>\n",
       "      <td>3.0</td>\n",
       "      <td>0</td>\n",
       "      <td>0</td>\n",
       "      <td>3</td>\n",
       "      <td>8</td>\n",
       "      <td>1550</td>\n",
       "      <td>0</td>\n",
       "      <td>2004</td>\n",
       "      <td>0</td>\n",
       "      <td>98103</td>\n",
       "      <td>47.6911</td>\n",
       "      <td>-122.341</td>\n",
       "      <td>1520</td>\n",
       "      <td>1465</td>\n",
       "      <td>430000</td>\n",
       "    </tr>\n",
       "    <tr>\n",
       "      <th>21418</th>\n",
       "      <td>993002325</td>\n",
       "      <td>2</td>\n",
       "      <td>1.50</td>\n",
       "      <td>950</td>\n",
       "      <td>4625</td>\n",
       "      <td>1.0</td>\n",
       "      <td>0</td>\n",
       "      <td>0</td>\n",
       "      <td>4</td>\n",
       "      <td>7</td>\n",
       "      <td>950</td>\n",
       "      <td>0</td>\n",
       "      <td>1949</td>\n",
       "      <td>0</td>\n",
       "      <td>98103</td>\n",
       "      <td>47.6912</td>\n",
       "      <td>-122.340</td>\n",
       "      <td>1440</td>\n",
       "      <td>4625</td>\n",
       "      <td>430000</td>\n",
       "    </tr>\n",
       "    <tr>\n",
       "      <th>21419</th>\n",
       "      <td>999000215</td>\n",
       "      <td>4</td>\n",
       "      <td>2.50</td>\n",
       "      <td>2760</td>\n",
       "      <td>5000</td>\n",
       "      <td>1.5</td>\n",
       "      <td>0</td>\n",
       "      <td>0</td>\n",
       "      <td>5</td>\n",
       "      <td>7</td>\n",
       "      <td>1680</td>\n",
       "      <td>1080</td>\n",
       "      <td>1928</td>\n",
       "      <td>0</td>\n",
       "      <td>98107</td>\n",
       "      <td>47.6726</td>\n",
       "      <td>-122.371</td>\n",
       "      <td>1850</td>\n",
       "      <td>5000</td>\n",
       "      <td>734200</td>\n",
       "    </tr>\n",
       "  </tbody>\n",
       "</table>\n",
       "<p>21420 rows × 20 columns</p>\n",
       "</div>"
      ],
      "text/plain": [
       "         house_id  bedrooms  bathrooms  sqft_living  sqft_lot  floors  \\\n",
       "0         1000102         6       3.00         2400      9373     2.0   \n",
       "1       100100050         3       1.00         1320     11090     1.0   \n",
       "2      1001200035         3       1.00         1350      7973     1.5   \n",
       "3      1001200050         4       1.50         1260      7248     1.5   \n",
       "4      1003000175         3       1.00          980      7606     1.0   \n",
       "...           ...       ...        ...          ...       ...     ...   \n",
       "21415   993002177         3       2.50         1380      1547     3.0   \n",
       "21416   993002225         3       2.25         1520      1245     3.0   \n",
       "21417   993002247         3       2.25         1550      1469     3.0   \n",
       "21418   993002325         2       1.50          950      4625     1.0   \n",
       "21419   999000215         4       2.50         2760      5000     1.5   \n",
       "\n",
       "       waterfront  views  house_condition  grade  sqft_above  sqft_basement  \\\n",
       "0               0      0                3      7        2400              0   \n",
       "1               0      0                3      7        1320              0   \n",
       "2               0      0                3      7        1350              0   \n",
       "3               0      0                5      7        1260              0   \n",
       "4               0      0                3      7         980              0   \n",
       "...           ...    ...              ...    ...         ...            ...   \n",
       "21415           0      0                3      8        1380              0   \n",
       "21416           0      0                3      8        1520              0   \n",
       "21417           0      0                3      8        1550              0   \n",
       "21418           0      0                4      7         950              0   \n",
       "21419           0      0                5      7        1680           1080   \n",
       "\n",
       "      yr_built yr_renovated zipcode  latitude  longitude  sqft_living15  \\\n",
       "0         1991            0   98002   47.3262   -122.214           2060   \n",
       "1         1955            0   98155   47.7748   -122.304           1320   \n",
       "2         1954            0   98188   47.4323   -122.292           1310   \n",
       "3         1955            0   98188   47.4330   -122.292           1300   \n",
       "4         1954            0   98188   47.4356   -122.290            980   \n",
       "...        ...          ...     ...       ...        ...            ...   \n",
       "21415     2000            0   98103   47.6908   -122.341           1380   \n",
       "21416     2004            0   98103   47.6907   -122.340           1520   \n",
       "21417     2004            0   98103   47.6911   -122.341           1520   \n",
       "21418     1949            0   98103   47.6912   -122.340           1440   \n",
       "21419     1928            0   98107   47.6726   -122.371           1850   \n",
       "\n",
       "       sqft_lot15   price  \n",
       "0            7316  280000  \n",
       "1            8319  275000  \n",
       "2            7491  272450  \n",
       "3            7732  259000  \n",
       "4            8125  221000  \n",
       "...           ...     ...  \n",
       "21415        1465  345000  \n",
       "21416        1470  405000  \n",
       "21417        1465  430000  \n",
       "21418        4625  430000  \n",
       "21419        5000  734200  \n",
       "\n",
       "[21420 rows x 20 columns]"
      ]
     },
     "execution_count": 3,
     "metadata": {},
     "output_type": "execute_result"
    }
   ],
   "source": [
    "query = 'select * from house_price_regression.house_price_data;'\n",
    "\n",
    "data_import = pd.read_sql_query(query, engine)\n",
    "data_import"
   ]
  },
  {
   "cell_type": "markdown",
   "metadata": {},
   "source": [
    "# 4. Clean Data"
   ]
  },
  {
   "cell_type": "code",
   "execution_count": 4,
   "metadata": {
    "scrolled": true
   },
   "outputs": [
    {
     "name": "stdout",
     "output_type": "stream",
     "text": [
      "DATA SHAPE IS:  (21420, 20)\n",
      "\n",
      "DATA DTYPES ARE: \n"
     ]
    },
    {
     "data": {
      "text/plain": [
       "house_id            object\n",
       "bedrooms             int64\n",
       "bathrooms          float64\n",
       "sqft_living          int64\n",
       "sqft_lot             int64\n",
       "floors             float64\n",
       "waterfront           int64\n",
       "views                int64\n",
       "house_condition      int64\n",
       "grade                int64\n",
       "sqft_above           int64\n",
       "sqft_basement        int64\n",
       "yr_built            object\n",
       "yr_renovated        object\n",
       "zipcode             object\n",
       "latitude           float64\n",
       "longitude          float64\n",
       "sqft_living15        int64\n",
       "sqft_lot15           int64\n",
       "price                int64\n",
       "dtype: object"
      ]
     },
     "execution_count": 4,
     "metadata": {},
     "output_type": "execute_result"
    }
   ],
   "source": [
    "print(\"DATA SHAPE IS: \", data_import.shape)\n",
    "print(\"\")\n",
    "print (\"DATA DTYPES ARE: \") \n",
    "data_import.dtypes"
   ]
  },
  {
   "cell_type": "code",
   "execution_count": 5,
   "metadata": {
    "scrolled": true
   },
   "outputs": [
    {
     "data": {
      "text/plain": [
       "house_id           21420\n",
       "bedrooms              12\n",
       "bathrooms             29\n",
       "sqft_living         1034\n",
       "sqft_lot            9776\n",
       "floors                 6\n",
       "waterfront             2\n",
       "views                  5\n",
       "house_condition        5\n",
       "grade                 11\n",
       "sqft_above           942\n",
       "sqft_basement        306\n",
       "yr_built             116\n",
       "yr_renovated          70\n",
       "zipcode               70\n",
       "latitude            5033\n",
       "longitude            751\n",
       "sqft_living15        777\n",
       "sqft_lot15          8682\n",
       "price               3607\n",
       "dtype: int64"
      ]
     },
     "execution_count": 5,
     "metadata": {},
     "output_type": "execute_result"
    }
   ],
   "source": [
    "data_import.nunique()"
   ]
  },
  {
   "cell_type": "markdown",
   "metadata": {},
   "source": [
    "#### It can already be seen that house_id are all unique values and will not add any value to the model, but the information will be necessary because we need to know for which house we are predicting the price. Therefore house_id will be moved to the index position."
   ]
  },
  {
   "cell_type": "code",
   "execution_count": 6,
   "metadata": {},
   "outputs": [
    {
     "data": {
      "text/html": [
       "<div>\n",
       "<style scoped>\n",
       "    .dataframe tbody tr th:only-of-type {\n",
       "        vertical-align: middle;\n",
       "    }\n",
       "\n",
       "    .dataframe tbody tr th {\n",
       "        vertical-align: top;\n",
       "    }\n",
       "\n",
       "    .dataframe thead th {\n",
       "        text-align: right;\n",
       "    }\n",
       "</style>\n",
       "<table border=\"1\" class=\"dataframe\">\n",
       "  <thead>\n",
       "    <tr style=\"text-align: right;\">\n",
       "      <th></th>\n",
       "      <th>bedrooms</th>\n",
       "      <th>bathrooms</th>\n",
       "      <th>sqft_living</th>\n",
       "      <th>sqft_lot</th>\n",
       "      <th>floors</th>\n",
       "      <th>waterfront</th>\n",
       "      <th>views</th>\n",
       "      <th>house_condition</th>\n",
       "      <th>grade</th>\n",
       "      <th>sqft_above</th>\n",
       "      <th>sqft_basement</th>\n",
       "      <th>yr_built</th>\n",
       "      <th>yr_renovated</th>\n",
       "      <th>zipcode</th>\n",
       "      <th>latitude</th>\n",
       "      <th>longitude</th>\n",
       "      <th>sqft_living15</th>\n",
       "      <th>sqft_lot15</th>\n",
       "      <th>price</th>\n",
       "    </tr>\n",
       "    <tr>\n",
       "      <th>house_id</th>\n",
       "      <th></th>\n",
       "      <th></th>\n",
       "      <th></th>\n",
       "      <th></th>\n",
       "      <th></th>\n",
       "      <th></th>\n",
       "      <th></th>\n",
       "      <th></th>\n",
       "      <th></th>\n",
       "      <th></th>\n",
       "      <th></th>\n",
       "      <th></th>\n",
       "      <th></th>\n",
       "      <th></th>\n",
       "      <th></th>\n",
       "      <th></th>\n",
       "      <th></th>\n",
       "      <th></th>\n",
       "      <th></th>\n",
       "    </tr>\n",
       "  </thead>\n",
       "  <tbody>\n",
       "    <tr>\n",
       "      <th>1000102</th>\n",
       "      <td>6</td>\n",
       "      <td>3.0</td>\n",
       "      <td>2400</td>\n",
       "      <td>9373</td>\n",
       "      <td>2.0</td>\n",
       "      <td>0</td>\n",
       "      <td>0</td>\n",
       "      <td>3</td>\n",
       "      <td>7</td>\n",
       "      <td>2400</td>\n",
       "      <td>0</td>\n",
       "      <td>1991</td>\n",
       "      <td>0</td>\n",
       "      <td>98002</td>\n",
       "      <td>47.3262</td>\n",
       "      <td>-122.214</td>\n",
       "      <td>2060</td>\n",
       "      <td>7316</td>\n",
       "      <td>280000</td>\n",
       "    </tr>\n",
       "    <tr>\n",
       "      <th>100100050</th>\n",
       "      <td>3</td>\n",
       "      <td>1.0</td>\n",
       "      <td>1320</td>\n",
       "      <td>11090</td>\n",
       "      <td>1.0</td>\n",
       "      <td>0</td>\n",
       "      <td>0</td>\n",
       "      <td>3</td>\n",
       "      <td>7</td>\n",
       "      <td>1320</td>\n",
       "      <td>0</td>\n",
       "      <td>1955</td>\n",
       "      <td>0</td>\n",
       "      <td>98155</td>\n",
       "      <td>47.7748</td>\n",
       "      <td>-122.304</td>\n",
       "      <td>1320</td>\n",
       "      <td>8319</td>\n",
       "      <td>275000</td>\n",
       "    </tr>\n",
       "    <tr>\n",
       "      <th>1001200035</th>\n",
       "      <td>3</td>\n",
       "      <td>1.0</td>\n",
       "      <td>1350</td>\n",
       "      <td>7973</td>\n",
       "      <td>1.5</td>\n",
       "      <td>0</td>\n",
       "      <td>0</td>\n",
       "      <td>3</td>\n",
       "      <td>7</td>\n",
       "      <td>1350</td>\n",
       "      <td>0</td>\n",
       "      <td>1954</td>\n",
       "      <td>0</td>\n",
       "      <td>98188</td>\n",
       "      <td>47.4323</td>\n",
       "      <td>-122.292</td>\n",
       "      <td>1310</td>\n",
       "      <td>7491</td>\n",
       "      <td>272450</td>\n",
       "    </tr>\n",
       "    <tr>\n",
       "      <th>1001200050</th>\n",
       "      <td>4</td>\n",
       "      <td>1.5</td>\n",
       "      <td>1260</td>\n",
       "      <td>7248</td>\n",
       "      <td>1.5</td>\n",
       "      <td>0</td>\n",
       "      <td>0</td>\n",
       "      <td>5</td>\n",
       "      <td>7</td>\n",
       "      <td>1260</td>\n",
       "      <td>0</td>\n",
       "      <td>1955</td>\n",
       "      <td>0</td>\n",
       "      <td>98188</td>\n",
       "      <td>47.4330</td>\n",
       "      <td>-122.292</td>\n",
       "      <td>1300</td>\n",
       "      <td>7732</td>\n",
       "      <td>259000</td>\n",
       "    </tr>\n",
       "    <tr>\n",
       "      <th>1003000175</th>\n",
       "      <td>3</td>\n",
       "      <td>1.0</td>\n",
       "      <td>980</td>\n",
       "      <td>7606</td>\n",
       "      <td>1.0</td>\n",
       "      <td>0</td>\n",
       "      <td>0</td>\n",
       "      <td>3</td>\n",
       "      <td>7</td>\n",
       "      <td>980</td>\n",
       "      <td>0</td>\n",
       "      <td>1954</td>\n",
       "      <td>0</td>\n",
       "      <td>98188</td>\n",
       "      <td>47.4356</td>\n",
       "      <td>-122.290</td>\n",
       "      <td>980</td>\n",
       "      <td>8125</td>\n",
       "      <td>221000</td>\n",
       "    </tr>\n",
       "  </tbody>\n",
       "</table>\n",
       "</div>"
      ],
      "text/plain": [
       "            bedrooms  bathrooms  sqft_living  sqft_lot  floors  waterfront  \\\n",
       "house_id                                                                     \n",
       "1000102            6        3.0         2400      9373     2.0           0   \n",
       "100100050          3        1.0         1320     11090     1.0           0   \n",
       "1001200035         3        1.0         1350      7973     1.5           0   \n",
       "1001200050         4        1.5         1260      7248     1.5           0   \n",
       "1003000175         3        1.0          980      7606     1.0           0   \n",
       "\n",
       "            views  house_condition  grade  sqft_above  sqft_basement yr_built  \\\n",
       "house_id                                                                        \n",
       "1000102         0                3      7        2400              0     1991   \n",
       "100100050       0                3      7        1320              0     1955   \n",
       "1001200035      0                3      7        1350              0     1954   \n",
       "1001200050      0                5      7        1260              0     1955   \n",
       "1003000175      0                3      7         980              0     1954   \n",
       "\n",
       "           yr_renovated zipcode  latitude  longitude  sqft_living15  \\\n",
       "house_id                                                              \n",
       "1000102               0   98002   47.3262   -122.214           2060   \n",
       "100100050             0   98155   47.7748   -122.304           1320   \n",
       "1001200035            0   98188   47.4323   -122.292           1310   \n",
       "1001200050            0   98188   47.4330   -122.292           1300   \n",
       "1003000175            0   98188   47.4356   -122.290            980   \n",
       "\n",
       "            sqft_lot15   price  \n",
       "house_id                        \n",
       "1000102           7316  280000  \n",
       "100100050         8319  275000  \n",
       "1001200035        7491  272450  \n",
       "1001200050        7732  259000  \n",
       "1003000175        8125  221000  "
      ]
     },
     "execution_count": 6,
     "metadata": {},
     "output_type": "execute_result"
    }
   ],
   "source": [
    "data = data_import.set_index(data_import['house_id'])\n",
    "data = data.drop(['house_id'], axis=1)\n",
    "data.head()"
   ]
  },
  {
   "cell_type": "markdown",
   "metadata": {},
   "source": [
    "#### Changing necessary dtypes"
   ]
  },
  {
   "cell_type": "code",
   "execution_count": 7,
   "metadata": {},
   "outputs": [],
   "source": [
    "data[['yr_built', 'yr_renovated']] = data[['yr_built', 'yr_renovated']].astype('int64')"
   ]
  },
  {
   "cell_type": "code",
   "execution_count": 8,
   "metadata": {
    "scrolled": true
   },
   "outputs": [
    {
     "data": {
      "text/plain": [
       "bedrooms             int64\n",
       "bathrooms          float64\n",
       "sqft_living          int64\n",
       "sqft_lot             int64\n",
       "floors             float64\n",
       "waterfront           int64\n",
       "views                int64\n",
       "house_condition      int64\n",
       "grade                int64\n",
       "sqft_above           int64\n",
       "sqft_basement        int64\n",
       "yr_built             int64\n",
       "yr_renovated         int64\n",
       "zipcode             object\n",
       "latitude           float64\n",
       "longitude          float64\n",
       "sqft_living15        int64\n",
       "sqft_lot15           int64\n",
       "price                int64\n",
       "dtype: object"
      ]
     },
     "execution_count": 8,
     "metadata": {},
     "output_type": "execute_result"
    }
   ],
   "source": [
    "data.dtypes"
   ]
  },
  {
   "cell_type": "markdown",
   "metadata": {},
   "source": [
    "#### Checking for NA's"
   ]
  },
  {
   "cell_type": "code",
   "execution_count": 9,
   "metadata": {
    "scrolled": false
   },
   "outputs": [
    {
     "data": {
      "text/plain": [
       "bedrooms           0\n",
       "bathrooms          0\n",
       "sqft_living        0\n",
       "sqft_lot           0\n",
       "floors             0\n",
       "waterfront         0\n",
       "views              0\n",
       "house_condition    0\n",
       "grade              0\n",
       "sqft_above         0\n",
       "sqft_basement      0\n",
       "yr_built           0\n",
       "yr_renovated       0\n",
       "zipcode            0\n",
       "latitude           0\n",
       "longitude          0\n",
       "sqft_living15      0\n",
       "sqft_lot15         0\n",
       "price              0\n",
       "dtype: int64"
      ]
     },
     "execution_count": 9,
     "metadata": {},
     "output_type": "execute_result"
    }
   ],
   "source": [
    "data.isnull().sum()"
   ]
  },
  {
   "cell_type": "code",
   "execution_count": 10,
   "metadata": {
    "scrolled": true
   },
   "outputs": [
    {
     "data": {
      "text/plain": [
       "bedrooms           0\n",
       "bathrooms          0\n",
       "sqft_living        0\n",
       "sqft_lot           0\n",
       "floors             0\n",
       "waterfront         0\n",
       "views              0\n",
       "house_condition    0\n",
       "grade              0\n",
       "sqft_above         0\n",
       "sqft_basement      0\n",
       "yr_built           0\n",
       "yr_renovated       0\n",
       "zipcode            0\n",
       "latitude           0\n",
       "longitude          0\n",
       "sqft_living15      0\n",
       "sqft_lot15         0\n",
       "price              0\n",
       "dtype: int64"
      ]
     },
     "execution_count": 10,
     "metadata": {},
     "output_type": "execute_result"
    }
   ],
   "source": [
    "data.isna().sum()"
   ]
  },
  {
   "cell_type": "markdown",
   "metadata": {},
   "source": [
    "The dataframe was quite clean, there are no null values."
   ]
  },
  {
   "cell_type": "markdown",
   "metadata": {},
   "source": [
    "#### Feature engineering\n",
    "I will create a column showing 1 if the house has a basement and 0 if it doesn't. In doing so, I can drop sqft_basement and sqft_above. I'm interested in the total square footage of the house and whether it has a basement or not.\n",
    "From previous tests I see that dropping the following columns improves the models significantly.\n",
    "Zipcode will be the location variable over latitude and longitude. sqft_living15 and sqft_lot15 showed a high correlation with sqft_living and sqft_plot in previous tests. I consider them dispensable."
   ]
  },
  {
   "cell_type": "code",
   "execution_count": 11,
   "metadata": {},
   "outputs": [],
   "source": [
    "data['basement']=np.where(data_import['sqft_basement'] != 0, 1, data_import['sqft_basement'])\n",
    "data = data.drop(['sqft_basement', 'sqft_above', 'latitude', 'longitude', 'sqft_living15', 'sqft_lot15'], axis=1)"
   ]
  },
  {
   "cell_type": "code",
   "execution_count": 12,
   "metadata": {},
   "outputs": [
    {
     "data": {
      "text/html": [
       "<div>\n",
       "<style scoped>\n",
       "    .dataframe tbody tr th:only-of-type {\n",
       "        vertical-align: middle;\n",
       "    }\n",
       "\n",
       "    .dataframe tbody tr th {\n",
       "        vertical-align: top;\n",
       "    }\n",
       "\n",
       "    .dataframe thead th {\n",
       "        text-align: right;\n",
       "    }\n",
       "</style>\n",
       "<table border=\"1\" class=\"dataframe\">\n",
       "  <thead>\n",
       "    <tr style=\"text-align: right;\">\n",
       "      <th></th>\n",
       "      <th>bedrooms</th>\n",
       "      <th>bathrooms</th>\n",
       "      <th>sqft_living</th>\n",
       "      <th>sqft_lot</th>\n",
       "      <th>floors</th>\n",
       "      <th>waterfront</th>\n",
       "      <th>views</th>\n",
       "      <th>house_condition</th>\n",
       "      <th>grade</th>\n",
       "      <th>yr_built</th>\n",
       "      <th>yr_renovated</th>\n",
       "      <th>zipcode</th>\n",
       "      <th>price</th>\n",
       "      <th>basement</th>\n",
       "    </tr>\n",
       "    <tr>\n",
       "      <th>house_id</th>\n",
       "      <th></th>\n",
       "      <th></th>\n",
       "      <th></th>\n",
       "      <th></th>\n",
       "      <th></th>\n",
       "      <th></th>\n",
       "      <th></th>\n",
       "      <th></th>\n",
       "      <th></th>\n",
       "      <th></th>\n",
       "      <th></th>\n",
       "      <th></th>\n",
       "      <th></th>\n",
       "      <th></th>\n",
       "    </tr>\n",
       "  </thead>\n",
       "  <tbody>\n",
       "    <tr>\n",
       "      <th>1000102</th>\n",
       "      <td>6</td>\n",
       "      <td>3.0</td>\n",
       "      <td>2400</td>\n",
       "      <td>9373</td>\n",
       "      <td>2.0</td>\n",
       "      <td>0</td>\n",
       "      <td>0</td>\n",
       "      <td>3</td>\n",
       "      <td>7</td>\n",
       "      <td>1991</td>\n",
       "      <td>0</td>\n",
       "      <td>98002</td>\n",
       "      <td>280000</td>\n",
       "      <td>0</td>\n",
       "    </tr>\n",
       "    <tr>\n",
       "      <th>100100050</th>\n",
       "      <td>3</td>\n",
       "      <td>1.0</td>\n",
       "      <td>1320</td>\n",
       "      <td>11090</td>\n",
       "      <td>1.0</td>\n",
       "      <td>0</td>\n",
       "      <td>0</td>\n",
       "      <td>3</td>\n",
       "      <td>7</td>\n",
       "      <td>1955</td>\n",
       "      <td>0</td>\n",
       "      <td>98155</td>\n",
       "      <td>275000</td>\n",
       "      <td>0</td>\n",
       "    </tr>\n",
       "    <tr>\n",
       "      <th>1001200035</th>\n",
       "      <td>3</td>\n",
       "      <td>1.0</td>\n",
       "      <td>1350</td>\n",
       "      <td>7973</td>\n",
       "      <td>1.5</td>\n",
       "      <td>0</td>\n",
       "      <td>0</td>\n",
       "      <td>3</td>\n",
       "      <td>7</td>\n",
       "      <td>1954</td>\n",
       "      <td>0</td>\n",
       "      <td>98188</td>\n",
       "      <td>272450</td>\n",
       "      <td>0</td>\n",
       "    </tr>\n",
       "    <tr>\n",
       "      <th>1001200050</th>\n",
       "      <td>4</td>\n",
       "      <td>1.5</td>\n",
       "      <td>1260</td>\n",
       "      <td>7248</td>\n",
       "      <td>1.5</td>\n",
       "      <td>0</td>\n",
       "      <td>0</td>\n",
       "      <td>5</td>\n",
       "      <td>7</td>\n",
       "      <td>1955</td>\n",
       "      <td>0</td>\n",
       "      <td>98188</td>\n",
       "      <td>259000</td>\n",
       "      <td>0</td>\n",
       "    </tr>\n",
       "    <tr>\n",
       "      <th>1003000175</th>\n",
       "      <td>3</td>\n",
       "      <td>1.0</td>\n",
       "      <td>980</td>\n",
       "      <td>7606</td>\n",
       "      <td>1.0</td>\n",
       "      <td>0</td>\n",
       "      <td>0</td>\n",
       "      <td>3</td>\n",
       "      <td>7</td>\n",
       "      <td>1954</td>\n",
       "      <td>0</td>\n",
       "      <td>98188</td>\n",
       "      <td>221000</td>\n",
       "      <td>0</td>\n",
       "    </tr>\n",
       "  </tbody>\n",
       "</table>\n",
       "</div>"
      ],
      "text/plain": [
       "            bedrooms  bathrooms  sqft_living  sqft_lot  floors  waterfront  \\\n",
       "house_id                                                                     \n",
       "1000102            6        3.0         2400      9373     2.0           0   \n",
       "100100050          3        1.0         1320     11090     1.0           0   \n",
       "1001200035         3        1.0         1350      7973     1.5           0   \n",
       "1001200050         4        1.5         1260      7248     1.5           0   \n",
       "1003000175         3        1.0          980      7606     1.0           0   \n",
       "\n",
       "            views  house_condition  grade  yr_built  yr_renovated zipcode  \\\n",
       "house_id                                                                    \n",
       "1000102         0                3      7      1991             0   98002   \n",
       "100100050       0                3      7      1955             0   98155   \n",
       "1001200035      0                3      7      1954             0   98188   \n",
       "1001200050      0                5      7      1955             0   98188   \n",
       "1003000175      0                3      7      1954             0   98188   \n",
       "\n",
       "             price  basement  \n",
       "house_id                      \n",
       "1000102     280000         0  \n",
       "100100050   275000         0  \n",
       "1001200035  272450         0  \n",
       "1001200050  259000         0  \n",
       "1003000175  221000         0  "
      ]
     },
     "execution_count": 12,
     "metadata": {},
     "output_type": "execute_result"
    }
   ],
   "source": [
    "data.head()"
   ]
  },
  {
   "cell_type": "markdown",
   "metadata": {},
   "source": [
    "# 5. Data exploration"
   ]
  },
  {
   "cell_type": "markdown",
   "metadata": {},
   "source": [
    "#### Dividing data into categorical, numerical, discrete and continuous"
   ]
  },
  {
   "cell_type": "code",
   "execution_count": 13,
   "metadata": {},
   "outputs": [],
   "source": [
    "cat_df = data.select_dtypes(include=np.object)\n",
    "num_df = data.select_dtypes(include=np.number)\n",
    "disc_df = data[['bedrooms','bathrooms','floors','waterfront','views','house_condition','grade','yr_built','yr_renovated']]\n",
    "cont_df = data[['sqft_living','sqft_lot','price']]"
   ]
  },
  {
   "cell_type": "code",
   "execution_count": 14,
   "metadata": {},
   "outputs": [
    {
     "data": {
      "text/html": [
       "<div>\n",
       "<style scoped>\n",
       "    .dataframe tbody tr th:only-of-type {\n",
       "        vertical-align: middle;\n",
       "    }\n",
       "\n",
       "    .dataframe tbody tr th {\n",
       "        vertical-align: top;\n",
       "    }\n",
       "\n",
       "    .dataframe thead th {\n",
       "        text-align: right;\n",
       "    }\n",
       "</style>\n",
       "<table border=\"1\" class=\"dataframe\">\n",
       "  <thead>\n",
       "    <tr style=\"text-align: right;\">\n",
       "      <th></th>\n",
       "      <th>zipcode</th>\n",
       "    </tr>\n",
       "    <tr>\n",
       "      <th>house_id</th>\n",
       "      <th></th>\n",
       "    </tr>\n",
       "  </thead>\n",
       "  <tbody>\n",
       "    <tr>\n",
       "      <th>1000102</th>\n",
       "      <td>98002</td>\n",
       "    </tr>\n",
       "    <tr>\n",
       "      <th>100100050</th>\n",
       "      <td>98155</td>\n",
       "    </tr>\n",
       "    <tr>\n",
       "      <th>1001200035</th>\n",
       "      <td>98188</td>\n",
       "    </tr>\n",
       "    <tr>\n",
       "      <th>1001200050</th>\n",
       "      <td>98188</td>\n",
       "    </tr>\n",
       "    <tr>\n",
       "      <th>1003000175</th>\n",
       "      <td>98188</td>\n",
       "    </tr>\n",
       "  </tbody>\n",
       "</table>\n",
       "</div>"
      ],
      "text/plain": [
       "           zipcode\n",
       "house_id          \n",
       "1000102      98002\n",
       "100100050    98155\n",
       "1001200035   98188\n",
       "1001200050   98188\n",
       "1003000175   98188"
      ]
     },
     "execution_count": 14,
     "metadata": {},
     "output_type": "execute_result"
    }
   ],
   "source": [
    "cat_df.head(5)"
   ]
  },
  {
   "cell_type": "code",
   "execution_count": 15,
   "metadata": {},
   "outputs": [
    {
     "data": {
      "text/html": [
       "<div>\n",
       "<style scoped>\n",
       "    .dataframe tbody tr th:only-of-type {\n",
       "        vertical-align: middle;\n",
       "    }\n",
       "\n",
       "    .dataframe tbody tr th {\n",
       "        vertical-align: top;\n",
       "    }\n",
       "\n",
       "    .dataframe thead th {\n",
       "        text-align: right;\n",
       "    }\n",
       "</style>\n",
       "<table border=\"1\" class=\"dataframe\">\n",
       "  <thead>\n",
       "    <tr style=\"text-align: right;\">\n",
       "      <th></th>\n",
       "      <th>bedrooms</th>\n",
       "      <th>bathrooms</th>\n",
       "      <th>sqft_living</th>\n",
       "      <th>sqft_lot</th>\n",
       "      <th>floors</th>\n",
       "      <th>waterfront</th>\n",
       "      <th>views</th>\n",
       "      <th>house_condition</th>\n",
       "      <th>grade</th>\n",
       "      <th>yr_built</th>\n",
       "      <th>yr_renovated</th>\n",
       "      <th>price</th>\n",
       "      <th>basement</th>\n",
       "    </tr>\n",
       "    <tr>\n",
       "      <th>house_id</th>\n",
       "      <th></th>\n",
       "      <th></th>\n",
       "      <th></th>\n",
       "      <th></th>\n",
       "      <th></th>\n",
       "      <th></th>\n",
       "      <th></th>\n",
       "      <th></th>\n",
       "      <th></th>\n",
       "      <th></th>\n",
       "      <th></th>\n",
       "      <th></th>\n",
       "      <th></th>\n",
       "    </tr>\n",
       "  </thead>\n",
       "  <tbody>\n",
       "    <tr>\n",
       "      <th>1000102</th>\n",
       "      <td>6</td>\n",
       "      <td>3.0</td>\n",
       "      <td>2400</td>\n",
       "      <td>9373</td>\n",
       "      <td>2.0</td>\n",
       "      <td>0</td>\n",
       "      <td>0</td>\n",
       "      <td>3</td>\n",
       "      <td>7</td>\n",
       "      <td>1991</td>\n",
       "      <td>0</td>\n",
       "      <td>280000</td>\n",
       "      <td>0</td>\n",
       "    </tr>\n",
       "    <tr>\n",
       "      <th>100100050</th>\n",
       "      <td>3</td>\n",
       "      <td>1.0</td>\n",
       "      <td>1320</td>\n",
       "      <td>11090</td>\n",
       "      <td>1.0</td>\n",
       "      <td>0</td>\n",
       "      <td>0</td>\n",
       "      <td>3</td>\n",
       "      <td>7</td>\n",
       "      <td>1955</td>\n",
       "      <td>0</td>\n",
       "      <td>275000</td>\n",
       "      <td>0</td>\n",
       "    </tr>\n",
       "    <tr>\n",
       "      <th>1001200035</th>\n",
       "      <td>3</td>\n",
       "      <td>1.0</td>\n",
       "      <td>1350</td>\n",
       "      <td>7973</td>\n",
       "      <td>1.5</td>\n",
       "      <td>0</td>\n",
       "      <td>0</td>\n",
       "      <td>3</td>\n",
       "      <td>7</td>\n",
       "      <td>1954</td>\n",
       "      <td>0</td>\n",
       "      <td>272450</td>\n",
       "      <td>0</td>\n",
       "    </tr>\n",
       "    <tr>\n",
       "      <th>1001200050</th>\n",
       "      <td>4</td>\n",
       "      <td>1.5</td>\n",
       "      <td>1260</td>\n",
       "      <td>7248</td>\n",
       "      <td>1.5</td>\n",
       "      <td>0</td>\n",
       "      <td>0</td>\n",
       "      <td>5</td>\n",
       "      <td>7</td>\n",
       "      <td>1955</td>\n",
       "      <td>0</td>\n",
       "      <td>259000</td>\n",
       "      <td>0</td>\n",
       "    </tr>\n",
       "    <tr>\n",
       "      <th>1003000175</th>\n",
       "      <td>3</td>\n",
       "      <td>1.0</td>\n",
       "      <td>980</td>\n",
       "      <td>7606</td>\n",
       "      <td>1.0</td>\n",
       "      <td>0</td>\n",
       "      <td>0</td>\n",
       "      <td>3</td>\n",
       "      <td>7</td>\n",
       "      <td>1954</td>\n",
       "      <td>0</td>\n",
       "      <td>221000</td>\n",
       "      <td>0</td>\n",
       "    </tr>\n",
       "  </tbody>\n",
       "</table>\n",
       "</div>"
      ],
      "text/plain": [
       "            bedrooms  bathrooms  sqft_living  sqft_lot  floors  waterfront  \\\n",
       "house_id                                                                     \n",
       "1000102            6        3.0         2400      9373     2.0           0   \n",
       "100100050          3        1.0         1320     11090     1.0           0   \n",
       "1001200035         3        1.0         1350      7973     1.5           0   \n",
       "1001200050         4        1.5         1260      7248     1.5           0   \n",
       "1003000175         3        1.0          980      7606     1.0           0   \n",
       "\n",
       "            views  house_condition  grade  yr_built  yr_renovated   price  \\\n",
       "house_id                                                                    \n",
       "1000102         0                3      7      1991             0  280000   \n",
       "100100050       0                3      7      1955             0  275000   \n",
       "1001200035      0                3      7      1954             0  272450   \n",
       "1001200050      0                5      7      1955             0  259000   \n",
       "1003000175      0                3      7      1954             0  221000   \n",
       "\n",
       "            basement  \n",
       "house_id              \n",
       "1000102            0  \n",
       "100100050          0  \n",
       "1001200035         0  \n",
       "1001200050         0  \n",
       "1003000175         0  "
      ]
     },
     "execution_count": 15,
     "metadata": {},
     "output_type": "execute_result"
    }
   ],
   "source": [
    "num_df.head(5)"
   ]
  },
  {
   "cell_type": "code",
   "execution_count": 16,
   "metadata": {},
   "outputs": [
    {
     "data": {
      "text/html": [
       "<div>\n",
       "<style scoped>\n",
       "    .dataframe tbody tr th:only-of-type {\n",
       "        vertical-align: middle;\n",
       "    }\n",
       "\n",
       "    .dataframe tbody tr th {\n",
       "        vertical-align: top;\n",
       "    }\n",
       "\n",
       "    .dataframe thead th {\n",
       "        text-align: right;\n",
       "    }\n",
       "</style>\n",
       "<table border=\"1\" class=\"dataframe\">\n",
       "  <thead>\n",
       "    <tr style=\"text-align: right;\">\n",
       "      <th></th>\n",
       "      <th>bedrooms</th>\n",
       "      <th>bathrooms</th>\n",
       "      <th>floors</th>\n",
       "      <th>waterfront</th>\n",
       "      <th>views</th>\n",
       "      <th>house_condition</th>\n",
       "      <th>grade</th>\n",
       "      <th>yr_built</th>\n",
       "      <th>yr_renovated</th>\n",
       "    </tr>\n",
       "    <tr>\n",
       "      <th>house_id</th>\n",
       "      <th></th>\n",
       "      <th></th>\n",
       "      <th></th>\n",
       "      <th></th>\n",
       "      <th></th>\n",
       "      <th></th>\n",
       "      <th></th>\n",
       "      <th></th>\n",
       "      <th></th>\n",
       "    </tr>\n",
       "  </thead>\n",
       "  <tbody>\n",
       "    <tr>\n",
       "      <th>1000102</th>\n",
       "      <td>6</td>\n",
       "      <td>3.0</td>\n",
       "      <td>2.0</td>\n",
       "      <td>0</td>\n",
       "      <td>0</td>\n",
       "      <td>3</td>\n",
       "      <td>7</td>\n",
       "      <td>1991</td>\n",
       "      <td>0</td>\n",
       "    </tr>\n",
       "    <tr>\n",
       "      <th>100100050</th>\n",
       "      <td>3</td>\n",
       "      <td>1.0</td>\n",
       "      <td>1.0</td>\n",
       "      <td>0</td>\n",
       "      <td>0</td>\n",
       "      <td>3</td>\n",
       "      <td>7</td>\n",
       "      <td>1955</td>\n",
       "      <td>0</td>\n",
       "    </tr>\n",
       "    <tr>\n",
       "      <th>1001200035</th>\n",
       "      <td>3</td>\n",
       "      <td>1.0</td>\n",
       "      <td>1.5</td>\n",
       "      <td>0</td>\n",
       "      <td>0</td>\n",
       "      <td>3</td>\n",
       "      <td>7</td>\n",
       "      <td>1954</td>\n",
       "      <td>0</td>\n",
       "    </tr>\n",
       "    <tr>\n",
       "      <th>1001200050</th>\n",
       "      <td>4</td>\n",
       "      <td>1.5</td>\n",
       "      <td>1.5</td>\n",
       "      <td>0</td>\n",
       "      <td>0</td>\n",
       "      <td>5</td>\n",
       "      <td>7</td>\n",
       "      <td>1955</td>\n",
       "      <td>0</td>\n",
       "    </tr>\n",
       "    <tr>\n",
       "      <th>1003000175</th>\n",
       "      <td>3</td>\n",
       "      <td>1.0</td>\n",
       "      <td>1.0</td>\n",
       "      <td>0</td>\n",
       "      <td>0</td>\n",
       "      <td>3</td>\n",
       "      <td>7</td>\n",
       "      <td>1954</td>\n",
       "      <td>0</td>\n",
       "    </tr>\n",
       "  </tbody>\n",
       "</table>\n",
       "</div>"
      ],
      "text/plain": [
       "            bedrooms  bathrooms  floors  waterfront  views  house_condition  \\\n",
       "house_id                                                                      \n",
       "1000102            6        3.0     2.0           0      0                3   \n",
       "100100050          3        1.0     1.0           0      0                3   \n",
       "1001200035         3        1.0     1.5           0      0                3   \n",
       "1001200050         4        1.5     1.5           0      0                5   \n",
       "1003000175         3        1.0     1.0           0      0                3   \n",
       "\n",
       "            grade  yr_built  yr_renovated  \n",
       "house_id                                   \n",
       "1000102         7      1991             0  \n",
       "100100050       7      1955             0  \n",
       "1001200035      7      1954             0  \n",
       "1001200050      7      1955             0  \n",
       "1003000175      7      1954             0  "
      ]
     },
     "execution_count": 16,
     "metadata": {},
     "output_type": "execute_result"
    }
   ],
   "source": [
    "disc_df.head(5)"
   ]
  },
  {
   "cell_type": "code",
   "execution_count": 17,
   "metadata": {},
   "outputs": [
    {
     "data": {
      "text/html": [
       "<div>\n",
       "<style scoped>\n",
       "    .dataframe tbody tr th:only-of-type {\n",
       "        vertical-align: middle;\n",
       "    }\n",
       "\n",
       "    .dataframe tbody tr th {\n",
       "        vertical-align: top;\n",
       "    }\n",
       "\n",
       "    .dataframe thead th {\n",
       "        text-align: right;\n",
       "    }\n",
       "</style>\n",
       "<table border=\"1\" class=\"dataframe\">\n",
       "  <thead>\n",
       "    <tr style=\"text-align: right;\">\n",
       "      <th></th>\n",
       "      <th>sqft_living</th>\n",
       "      <th>sqft_lot</th>\n",
       "      <th>price</th>\n",
       "    </tr>\n",
       "    <tr>\n",
       "      <th>house_id</th>\n",
       "      <th></th>\n",
       "      <th></th>\n",
       "      <th></th>\n",
       "    </tr>\n",
       "  </thead>\n",
       "  <tbody>\n",
       "    <tr>\n",
       "      <th>1000102</th>\n",
       "      <td>2400</td>\n",
       "      <td>9373</td>\n",
       "      <td>280000</td>\n",
       "    </tr>\n",
       "    <tr>\n",
       "      <th>100100050</th>\n",
       "      <td>1320</td>\n",
       "      <td>11090</td>\n",
       "      <td>275000</td>\n",
       "    </tr>\n",
       "    <tr>\n",
       "      <th>1001200035</th>\n",
       "      <td>1350</td>\n",
       "      <td>7973</td>\n",
       "      <td>272450</td>\n",
       "    </tr>\n",
       "    <tr>\n",
       "      <th>1001200050</th>\n",
       "      <td>1260</td>\n",
       "      <td>7248</td>\n",
       "      <td>259000</td>\n",
       "    </tr>\n",
       "    <tr>\n",
       "      <th>1003000175</th>\n",
       "      <td>980</td>\n",
       "      <td>7606</td>\n",
       "      <td>221000</td>\n",
       "    </tr>\n",
       "  </tbody>\n",
       "</table>\n",
       "</div>"
      ],
      "text/plain": [
       "            sqft_living  sqft_lot   price\n",
       "house_id                                 \n",
       "1000102            2400      9373  280000\n",
       "100100050          1320     11090  275000\n",
       "1001200035         1350      7973  272450\n",
       "1001200050         1260      7248  259000\n",
       "1003000175          980      7606  221000"
      ]
     },
     "execution_count": 17,
     "metadata": {},
     "output_type": "execute_result"
    }
   ],
   "source": [
    "cont_df.head(5)"
   ]
  },
  {
   "cell_type": "markdown",
   "metadata": {},
   "source": [
    "## Numerical columns"
   ]
  },
  {
   "cell_type": "markdown",
   "metadata": {},
   "source": [
    "#### Getting basic statistical summary of the numerical columns"
   ]
  },
  {
   "cell_type": "code",
   "execution_count": 18,
   "metadata": {
    "scrolled": false
   },
   "outputs": [
    {
     "data": {
      "text/html": [
       "<div>\n",
       "<style scoped>\n",
       "    .dataframe tbody tr th:only-of-type {\n",
       "        vertical-align: middle;\n",
       "    }\n",
       "\n",
       "    .dataframe tbody tr th {\n",
       "        vertical-align: top;\n",
       "    }\n",
       "\n",
       "    .dataframe thead th {\n",
       "        text-align: right;\n",
       "    }\n",
       "</style>\n",
       "<table border=\"1\" class=\"dataframe\">\n",
       "  <thead>\n",
       "    <tr style=\"text-align: right;\">\n",
       "      <th></th>\n",
       "      <th>bedrooms</th>\n",
       "      <th>bathrooms</th>\n",
       "      <th>sqft_living</th>\n",
       "      <th>sqft_lot</th>\n",
       "      <th>floors</th>\n",
       "      <th>waterfront</th>\n",
       "      <th>views</th>\n",
       "      <th>house_condition</th>\n",
       "      <th>grade</th>\n",
       "      <th>yr_built</th>\n",
       "      <th>yr_renovated</th>\n",
       "      <th>price</th>\n",
       "      <th>basement</th>\n",
       "    </tr>\n",
       "  </thead>\n",
       "  <tbody>\n",
       "    <tr>\n",
       "      <th>count</th>\n",
       "      <td>21420.000000</td>\n",
       "      <td>21420.000000</td>\n",
       "      <td>21420.000000</td>\n",
       "      <td>2.142000e+04</td>\n",
       "      <td>21420.000000</td>\n",
       "      <td>21420.000000</td>\n",
       "      <td>21420.000000</td>\n",
       "      <td>21420.000000</td>\n",
       "      <td>21420.000000</td>\n",
       "      <td>21420.000000</td>\n",
       "      <td>21420.000000</td>\n",
       "      <td>2.142000e+04</td>\n",
       "      <td>21420.000000</td>\n",
       "    </tr>\n",
       "    <tr>\n",
       "      <th>mean</th>\n",
       "      <td>3.373950</td>\n",
       "      <td>2.118429</td>\n",
       "      <td>2083.132633</td>\n",
       "      <td>1.512804e+04</td>\n",
       "      <td>1.495985</td>\n",
       "      <td>0.007610</td>\n",
       "      <td>0.235107</td>\n",
       "      <td>3.410784</td>\n",
       "      <td>7.662792</td>\n",
       "      <td>1971.092997</td>\n",
       "      <td>84.793091</td>\n",
       "      <td>5.407393e+05</td>\n",
       "      <td>0.393137</td>\n",
       "    </tr>\n",
       "    <tr>\n",
       "      <th>std</th>\n",
       "      <td>0.925405</td>\n",
       "      <td>0.768720</td>\n",
       "      <td>918.808412</td>\n",
       "      <td>4.153080e+04</td>\n",
       "      <td>0.540081</td>\n",
       "      <td>0.086903</td>\n",
       "      <td>0.767165</td>\n",
       "      <td>0.650035</td>\n",
       "      <td>1.171971</td>\n",
       "      <td>29.387141</td>\n",
       "      <td>402.574626</td>\n",
       "      <td>3.679311e+05</td>\n",
       "      <td>0.488458</td>\n",
       "    </tr>\n",
       "    <tr>\n",
       "      <th>min</th>\n",
       "      <td>1.000000</td>\n",
       "      <td>0.500000</td>\n",
       "      <td>370.000000</td>\n",
       "      <td>5.200000e+02</td>\n",
       "      <td>1.000000</td>\n",
       "      <td>0.000000</td>\n",
       "      <td>0.000000</td>\n",
       "      <td>1.000000</td>\n",
       "      <td>3.000000</td>\n",
       "      <td>1900.000000</td>\n",
       "      <td>0.000000</td>\n",
       "      <td>7.800000e+04</td>\n",
       "      <td>0.000000</td>\n",
       "    </tr>\n",
       "    <tr>\n",
       "      <th>25%</th>\n",
       "      <td>3.000000</td>\n",
       "      <td>1.750000</td>\n",
       "      <td>1430.000000</td>\n",
       "      <td>5.040000e+03</td>\n",
       "      <td>1.000000</td>\n",
       "      <td>0.000000</td>\n",
       "      <td>0.000000</td>\n",
       "      <td>3.000000</td>\n",
       "      <td>7.000000</td>\n",
       "      <td>1952.000000</td>\n",
       "      <td>0.000000</td>\n",
       "      <td>3.225000e+05</td>\n",
       "      <td>0.000000</td>\n",
       "    </tr>\n",
       "    <tr>\n",
       "      <th>50%</th>\n",
       "      <td>3.000000</td>\n",
       "      <td>2.250000</td>\n",
       "      <td>1920.000000</td>\n",
       "      <td>7.614000e+03</td>\n",
       "      <td>1.500000</td>\n",
       "      <td>0.000000</td>\n",
       "      <td>0.000000</td>\n",
       "      <td>3.000000</td>\n",
       "      <td>7.000000</td>\n",
       "      <td>1975.000000</td>\n",
       "      <td>0.000000</td>\n",
       "      <td>4.500000e+05</td>\n",
       "      <td>0.000000</td>\n",
       "    </tr>\n",
       "    <tr>\n",
       "      <th>75%</th>\n",
       "      <td>4.000000</td>\n",
       "      <td>2.500000</td>\n",
       "      <td>2550.000000</td>\n",
       "      <td>1.069050e+04</td>\n",
       "      <td>2.000000</td>\n",
       "      <td>0.000000</td>\n",
       "      <td>0.000000</td>\n",
       "      <td>4.000000</td>\n",
       "      <td>8.000000</td>\n",
       "      <td>1997.000000</td>\n",
       "      <td>0.000000</td>\n",
       "      <td>6.450000e+05</td>\n",
       "      <td>1.000000</td>\n",
       "    </tr>\n",
       "    <tr>\n",
       "      <th>max</th>\n",
       "      <td>33.000000</td>\n",
       "      <td>8.000000</td>\n",
       "      <td>13540.000000</td>\n",
       "      <td>1.651359e+06</td>\n",
       "      <td>3.500000</td>\n",
       "      <td>1.000000</td>\n",
       "      <td>4.000000</td>\n",
       "      <td>5.000000</td>\n",
       "      <td>13.000000</td>\n",
       "      <td>2015.000000</td>\n",
       "      <td>2015.000000</td>\n",
       "      <td>7.700000e+06</td>\n",
       "      <td>1.000000</td>\n",
       "    </tr>\n",
       "  </tbody>\n",
       "</table>\n",
       "</div>"
      ],
      "text/plain": [
       "           bedrooms     bathrooms   sqft_living      sqft_lot        floors  \\\n",
       "count  21420.000000  21420.000000  21420.000000  2.142000e+04  21420.000000   \n",
       "mean       3.373950      2.118429   2083.132633  1.512804e+04      1.495985   \n",
       "std        0.925405      0.768720    918.808412  4.153080e+04      0.540081   \n",
       "min        1.000000      0.500000    370.000000  5.200000e+02      1.000000   \n",
       "25%        3.000000      1.750000   1430.000000  5.040000e+03      1.000000   \n",
       "50%        3.000000      2.250000   1920.000000  7.614000e+03      1.500000   \n",
       "75%        4.000000      2.500000   2550.000000  1.069050e+04      2.000000   \n",
       "max       33.000000      8.000000  13540.000000  1.651359e+06      3.500000   \n",
       "\n",
       "         waterfront         views  house_condition         grade  \\\n",
       "count  21420.000000  21420.000000     21420.000000  21420.000000   \n",
       "mean       0.007610      0.235107         3.410784      7.662792   \n",
       "std        0.086903      0.767165         0.650035      1.171971   \n",
       "min        0.000000      0.000000         1.000000      3.000000   \n",
       "25%        0.000000      0.000000         3.000000      7.000000   \n",
       "50%        0.000000      0.000000         3.000000      7.000000   \n",
       "75%        0.000000      0.000000         4.000000      8.000000   \n",
       "max        1.000000      4.000000         5.000000     13.000000   \n",
       "\n",
       "           yr_built  yr_renovated         price      basement  \n",
       "count  21420.000000  21420.000000  2.142000e+04  21420.000000  \n",
       "mean    1971.092997     84.793091  5.407393e+05      0.393137  \n",
       "std       29.387141    402.574626  3.679311e+05      0.488458  \n",
       "min     1900.000000      0.000000  7.800000e+04      0.000000  \n",
       "25%     1952.000000      0.000000  3.225000e+05      0.000000  \n",
       "50%     1975.000000      0.000000  4.500000e+05      0.000000  \n",
       "75%     1997.000000      0.000000  6.450000e+05      1.000000  \n",
       "max     2015.000000   2015.000000  7.700000e+06      1.000000  "
      ]
     },
     "execution_count": 18,
     "metadata": {},
     "output_type": "execute_result"
    }
   ],
   "source": [
    "num_df.describe()"
   ]
  },
  {
   "cell_type": "markdown",
   "metadata": {},
   "source": [
    "#### Checking for correlation"
   ]
  },
  {
   "cell_type": "code",
   "execution_count": 19,
   "metadata": {},
   "outputs": [
    {
     "data": {
      "text/html": [
       "<div>\n",
       "<style scoped>\n",
       "    .dataframe tbody tr th:only-of-type {\n",
       "        vertical-align: middle;\n",
       "    }\n",
       "\n",
       "    .dataframe tbody tr th {\n",
       "        vertical-align: top;\n",
       "    }\n",
       "\n",
       "    .dataframe thead th {\n",
       "        text-align: right;\n",
       "    }\n",
       "</style>\n",
       "<table border=\"1\" class=\"dataframe\">\n",
       "  <thead>\n",
       "    <tr style=\"text-align: right;\">\n",
       "      <th></th>\n",
       "      <th>bedrooms</th>\n",
       "      <th>bathrooms</th>\n",
       "      <th>sqft_living</th>\n",
       "      <th>sqft_lot</th>\n",
       "      <th>floors</th>\n",
       "      <th>waterfront</th>\n",
       "      <th>views</th>\n",
       "      <th>house_condition</th>\n",
       "      <th>grade</th>\n",
       "      <th>yr_built</th>\n",
       "      <th>yr_renovated</th>\n",
       "      <th>price</th>\n",
       "      <th>basement</th>\n",
       "    </tr>\n",
       "  </thead>\n",
       "  <tbody>\n",
       "    <tr>\n",
       "      <th>bedrooms</th>\n",
       "      <td>1.000000</td>\n",
       "      <td>0.515383</td>\n",
       "      <td>0.579069</td>\n",
       "      <td>0.032490</td>\n",
       "      <td>0.177734</td>\n",
       "      <td>-0.006940</td>\n",
       "      <td>0.080019</td>\n",
       "      <td>0.025893</td>\n",
       "      <td>0.357988</td>\n",
       "      <td>0.155241</td>\n",
       "      <td>0.017977</td>\n",
       "      <td>0.309453</td>\n",
       "      <td>0.161433</td>\n",
       "    </tr>\n",
       "    <tr>\n",
       "      <th>bathrooms</th>\n",
       "      <td>0.515383</td>\n",
       "      <td>1.000000</td>\n",
       "      <td>0.755522</td>\n",
       "      <td>0.087779</td>\n",
       "      <td>0.501803</td>\n",
       "      <td>0.063734</td>\n",
       "      <td>0.187336</td>\n",
       "      <td>-0.129362</td>\n",
       "      <td>0.665587</td>\n",
       "      <td>0.506252</td>\n",
       "      <td>0.050904</td>\n",
       "      <td>0.526229</td>\n",
       "      <td>0.162598</td>\n",
       "    </tr>\n",
       "    <tr>\n",
       "      <th>sqft_living</th>\n",
       "      <td>0.579069</td>\n",
       "      <td>0.755522</td>\n",
       "      <td>1.000000</td>\n",
       "      <td>0.172586</td>\n",
       "      <td>0.352868</td>\n",
       "      <td>0.103938</td>\n",
       "      <td>0.283851</td>\n",
       "      <td>-0.061677</td>\n",
       "      <td>0.762477</td>\n",
       "      <td>0.316646</td>\n",
       "      <td>0.055028</td>\n",
       "      <td>0.701875</td>\n",
       "      <td>0.203382</td>\n",
       "    </tr>\n",
       "    <tr>\n",
       "      <th>sqft_lot</th>\n",
       "      <td>0.032490</td>\n",
       "      <td>0.087779</td>\n",
       "      <td>0.172586</td>\n",
       "      <td>1.000000</td>\n",
       "      <td>-0.005561</td>\n",
       "      <td>0.021599</td>\n",
       "      <td>0.075203</td>\n",
       "      <td>-0.009169</td>\n",
       "      <td>0.113656</td>\n",
       "      <td>0.052312</td>\n",
       "      <td>0.007679</td>\n",
       "      <td>0.089111</td>\n",
       "      <td>-0.035506</td>\n",
       "    </tr>\n",
       "    <tr>\n",
       "      <th>floors</th>\n",
       "      <td>0.177734</td>\n",
       "      <td>0.501803</td>\n",
       "      <td>0.352868</td>\n",
       "      <td>-0.005561</td>\n",
       "      <td>1.000000</td>\n",
       "      <td>0.023530</td>\n",
       "      <td>0.027575</td>\n",
       "      <td>-0.266859</td>\n",
       "      <td>0.458091</td>\n",
       "      <td>0.488935</td>\n",
       "      <td>0.005714</td>\n",
       "      <td>0.256286</td>\n",
       "      <td>-0.257003</td>\n",
       "    </tr>\n",
       "    <tr>\n",
       "      <th>waterfront</th>\n",
       "      <td>-0.006940</td>\n",
       "      <td>0.063734</td>\n",
       "      <td>0.103938</td>\n",
       "      <td>0.021599</td>\n",
       "      <td>0.023530</td>\n",
       "      <td>1.000000</td>\n",
       "      <td>0.403140</td>\n",
       "      <td>0.016564</td>\n",
       "      <td>0.082955</td>\n",
       "      <td>-0.026529</td>\n",
       "      <td>0.093013</td>\n",
       "      <td>0.266991</td>\n",
       "      <td>0.037306</td>\n",
       "    </tr>\n",
       "    <tr>\n",
       "      <th>views</th>\n",
       "      <td>0.080019</td>\n",
       "      <td>0.187336</td>\n",
       "      <td>0.283851</td>\n",
       "      <td>0.075203</td>\n",
       "      <td>0.027575</td>\n",
       "      <td>0.403140</td>\n",
       "      <td>1.000000</td>\n",
       "      <td>0.045059</td>\n",
       "      <td>0.250298</td>\n",
       "      <td>-0.055351</td>\n",
       "      <td>0.103667</td>\n",
       "      <td>0.397008</td>\n",
       "      <td>0.181797</td>\n",
       "    </tr>\n",
       "    <tr>\n",
       "      <th>house_condition</th>\n",
       "      <td>0.025893</td>\n",
       "      <td>-0.129362</td>\n",
       "      <td>-0.061677</td>\n",
       "      <td>-0.009169</td>\n",
       "      <td>-0.266859</td>\n",
       "      <td>0.016564</td>\n",
       "      <td>0.045059</td>\n",
       "      <td>1.000000</td>\n",
       "      <td>-0.150508</td>\n",
       "      <td>-0.365129</td>\n",
       "      <td>-0.061308</td>\n",
       "      <td>0.034779</td>\n",
       "      <td>0.135687</td>\n",
       "    </tr>\n",
       "    <tr>\n",
       "      <th>grade</th>\n",
       "      <td>0.357988</td>\n",
       "      <td>0.665587</td>\n",
       "      <td>0.762477</td>\n",
       "      <td>0.113656</td>\n",
       "      <td>0.458091</td>\n",
       "      <td>0.082955</td>\n",
       "      <td>0.250298</td>\n",
       "      <td>-0.150508</td>\n",
       "      <td>1.000000</td>\n",
       "      <td>0.446235</td>\n",
       "      <td>0.014201</td>\n",
       "      <td>0.668020</td>\n",
       "      <td>0.049801</td>\n",
       "    </tr>\n",
       "    <tr>\n",
       "      <th>yr_built</th>\n",
       "      <td>0.155241</td>\n",
       "      <td>0.506252</td>\n",
       "      <td>0.316646</td>\n",
       "      <td>0.052312</td>\n",
       "      <td>0.488935</td>\n",
       "      <td>-0.026529</td>\n",
       "      <td>-0.055351</td>\n",
       "      <td>-0.365129</td>\n",
       "      <td>0.446235</td>\n",
       "      <td>1.000000</td>\n",
       "      <td>-0.225731</td>\n",
       "      <td>0.052906</td>\n",
       "      <td>-0.168879</td>\n",
       "    </tr>\n",
       "    <tr>\n",
       "      <th>yr_renovated</th>\n",
       "      <td>0.017977</td>\n",
       "      <td>0.050904</td>\n",
       "      <td>0.055028</td>\n",
       "      <td>0.007679</td>\n",
       "      <td>0.005714</td>\n",
       "      <td>0.093013</td>\n",
       "      <td>0.103667</td>\n",
       "      <td>-0.061308</td>\n",
       "      <td>0.014201</td>\n",
       "      <td>-0.225731</td>\n",
       "      <td>1.000000</td>\n",
       "      <td>0.126992</td>\n",
       "      <td>0.049191</td>\n",
       "    </tr>\n",
       "    <tr>\n",
       "      <th>price</th>\n",
       "      <td>0.309453</td>\n",
       "      <td>0.526229</td>\n",
       "      <td>0.701875</td>\n",
       "      <td>0.089111</td>\n",
       "      <td>0.256286</td>\n",
       "      <td>0.266991</td>\n",
       "      <td>0.397008</td>\n",
       "      <td>0.034779</td>\n",
       "      <td>0.668020</td>\n",
       "      <td>0.052906</td>\n",
       "      <td>0.126992</td>\n",
       "      <td>1.000000</td>\n",
       "      <td>0.179407</td>\n",
       "    </tr>\n",
       "    <tr>\n",
       "      <th>basement</th>\n",
       "      <td>0.161433</td>\n",
       "      <td>0.162598</td>\n",
       "      <td>0.203382</td>\n",
       "      <td>-0.035506</td>\n",
       "      <td>-0.257003</td>\n",
       "      <td>0.037306</td>\n",
       "      <td>0.181797</td>\n",
       "      <td>0.135687</td>\n",
       "      <td>0.049801</td>\n",
       "      <td>-0.168879</td>\n",
       "      <td>0.049191</td>\n",
       "      <td>0.179407</td>\n",
       "      <td>1.000000</td>\n",
       "    </tr>\n",
       "  </tbody>\n",
       "</table>\n",
       "</div>"
      ],
      "text/plain": [
       "                 bedrooms  bathrooms  sqft_living  sqft_lot    floors  \\\n",
       "bedrooms         1.000000   0.515383     0.579069  0.032490  0.177734   \n",
       "bathrooms        0.515383   1.000000     0.755522  0.087779  0.501803   \n",
       "sqft_living      0.579069   0.755522     1.000000  0.172586  0.352868   \n",
       "sqft_lot         0.032490   0.087779     0.172586  1.000000 -0.005561   \n",
       "floors           0.177734   0.501803     0.352868 -0.005561  1.000000   \n",
       "waterfront      -0.006940   0.063734     0.103938  0.021599  0.023530   \n",
       "views            0.080019   0.187336     0.283851  0.075203  0.027575   \n",
       "house_condition  0.025893  -0.129362    -0.061677 -0.009169 -0.266859   \n",
       "grade            0.357988   0.665587     0.762477  0.113656  0.458091   \n",
       "yr_built         0.155241   0.506252     0.316646  0.052312  0.488935   \n",
       "yr_renovated     0.017977   0.050904     0.055028  0.007679  0.005714   \n",
       "price            0.309453   0.526229     0.701875  0.089111  0.256286   \n",
       "basement         0.161433   0.162598     0.203382 -0.035506 -0.257003   \n",
       "\n",
       "                 waterfront     views  house_condition     grade  yr_built  \\\n",
       "bedrooms          -0.006940  0.080019         0.025893  0.357988  0.155241   \n",
       "bathrooms          0.063734  0.187336        -0.129362  0.665587  0.506252   \n",
       "sqft_living        0.103938  0.283851        -0.061677  0.762477  0.316646   \n",
       "sqft_lot           0.021599  0.075203        -0.009169  0.113656  0.052312   \n",
       "floors             0.023530  0.027575        -0.266859  0.458091  0.488935   \n",
       "waterfront         1.000000  0.403140         0.016564  0.082955 -0.026529   \n",
       "views              0.403140  1.000000         0.045059  0.250298 -0.055351   \n",
       "house_condition    0.016564  0.045059         1.000000 -0.150508 -0.365129   \n",
       "grade              0.082955  0.250298        -0.150508  1.000000  0.446235   \n",
       "yr_built          -0.026529 -0.055351        -0.365129  0.446235  1.000000   \n",
       "yr_renovated       0.093013  0.103667        -0.061308  0.014201 -0.225731   \n",
       "price              0.266991  0.397008         0.034779  0.668020  0.052906   \n",
       "basement           0.037306  0.181797         0.135687  0.049801 -0.168879   \n",
       "\n",
       "                 yr_renovated     price  basement  \n",
       "bedrooms             0.017977  0.309453  0.161433  \n",
       "bathrooms            0.050904  0.526229  0.162598  \n",
       "sqft_living          0.055028  0.701875  0.203382  \n",
       "sqft_lot             0.007679  0.089111 -0.035506  \n",
       "floors               0.005714  0.256286 -0.257003  \n",
       "waterfront           0.093013  0.266991  0.037306  \n",
       "views                0.103667  0.397008  0.181797  \n",
       "house_condition     -0.061308  0.034779  0.135687  \n",
       "grade                0.014201  0.668020  0.049801  \n",
       "yr_built            -0.225731  0.052906 -0.168879  \n",
       "yr_renovated         1.000000  0.126992  0.049191  \n",
       "price                0.126992  1.000000  0.179407  \n",
       "basement             0.049191  0.179407  1.000000  "
      ]
     },
     "execution_count": 19,
     "metadata": {},
     "output_type": "execute_result"
    }
   ],
   "source": [
    "num_df.corr()"
   ]
  },
  {
   "cell_type": "code",
   "execution_count": 20,
   "metadata": {
    "scrolled": false
   },
   "outputs": [
    {
     "data": {
      "image/png": "[encoded data removed]",
      "text/plain": [
       "<Figure size 864x720 with 2 Axes>"
      ]
     },
     "metadata": {
      "needs_background": "light"
     },
     "output_type": "display_data"
    }
   ],
   "source": [
    "corr_matrix=num_df.corr(method='pearson')  # default\n",
    "fig, ax = plt.subplots(figsize=(12, 10))\n",
    "ax = sns.heatmap(corr_matrix, annot=True, cmap=\"RdYlGn\")  #YlGnBu\n",
    "plt.savefig('plot.png', dpi=300, bbox_inches='tight')\n",
    "plt.show()"
   ]
  },
  {
   "cell_type": "markdown",
   "metadata": {},
   "source": [
    "##### We can find high correlation between sqft_living and bathrooms; grade and bathrooms. To keep in mind..."
   ]
  },
  {
   "cell_type": "markdown",
   "metadata": {},
   "source": [
    "### Checking for outliers"
   ]
  },
  {
   "cell_type": "code",
   "execution_count": 21,
   "metadata": {},
   "outputs": [
    {
     "data": {
      "text/html": [
       "<div>\n",
       "<style scoped>\n",
       "    .dataframe tbody tr th:only-of-type {\n",
       "        vertical-align: middle;\n",
       "    }\n",
       "\n",
       "    .dataframe tbody tr th {\n",
       "        vertical-align: top;\n",
       "    }\n",
       "\n",
       "    .dataframe thead th {\n",
       "        text-align: right;\n",
       "    }\n",
       "</style>\n",
       "<table border=\"1\" class=\"dataframe\">\n",
       "  <thead>\n",
       "    <tr style=\"text-align: right;\">\n",
       "      <th></th>\n",
       "      <th>bedrooms</th>\n",
       "      <th>bathrooms</th>\n",
       "      <th>sqft_living</th>\n",
       "      <th>sqft_lot</th>\n",
       "      <th>floors</th>\n",
       "      <th>waterfront</th>\n",
       "      <th>views</th>\n",
       "      <th>house_condition</th>\n",
       "      <th>grade</th>\n",
       "      <th>yr_built</th>\n",
       "      <th>yr_renovated</th>\n",
       "      <th>price</th>\n",
       "      <th>basement</th>\n",
       "    </tr>\n",
       "  </thead>\n",
       "  <tbody>\n",
       "    <tr>\n",
       "      <th>count</th>\n",
       "      <td>21420.000000</td>\n",
       "      <td>21420.000000</td>\n",
       "      <td>21420.000000</td>\n",
       "      <td>2.142000e+04</td>\n",
       "      <td>21420.000000</td>\n",
       "      <td>21420.000000</td>\n",
       "      <td>21420.000000</td>\n",
       "      <td>21420.000000</td>\n",
       "      <td>21420.000000</td>\n",
       "      <td>21420.000000</td>\n",
       "      <td>21420.000000</td>\n",
       "      <td>2.142000e+04</td>\n",
       "      <td>21420.000000</td>\n",
       "    </tr>\n",
       "    <tr>\n",
       "      <th>mean</th>\n",
       "      <td>3.373950</td>\n",
       "      <td>2.118429</td>\n",
       "      <td>2083.132633</td>\n",
       "      <td>1.512804e+04</td>\n",
       "      <td>1.495985</td>\n",
       "      <td>0.007610</td>\n",
       "      <td>0.235107</td>\n",
       "      <td>3.410784</td>\n",
       "      <td>7.662792</td>\n",
       "      <td>1971.092997</td>\n",
       "      <td>84.793091</td>\n",
       "      <td>5.407393e+05</td>\n",
       "      <td>0.393137</td>\n",
       "    </tr>\n",
       "    <tr>\n",
       "      <th>std</th>\n",
       "      <td>0.925405</td>\n",
       "      <td>0.768720</td>\n",
       "      <td>918.808412</td>\n",
       "      <td>4.153080e+04</td>\n",
       "      <td>0.540081</td>\n",
       "      <td>0.086903</td>\n",
       "      <td>0.767165</td>\n",
       "      <td>0.650035</td>\n",
       "      <td>1.171971</td>\n",
       "      <td>29.387141</td>\n",
       "      <td>402.574626</td>\n",
       "      <td>3.679311e+05</td>\n",
       "      <td>0.488458</td>\n",
       "    </tr>\n",
       "    <tr>\n",
       "      <th>min</th>\n",
       "      <td>1.000000</td>\n",
       "      <td>0.500000</td>\n",
       "      <td>370.000000</td>\n",
       "      <td>5.200000e+02</td>\n",
       "      <td>1.000000</td>\n",
       "      <td>0.000000</td>\n",
       "      <td>0.000000</td>\n",
       "      <td>1.000000</td>\n",
       "      <td>3.000000</td>\n",
       "      <td>1900.000000</td>\n",
       "      <td>0.000000</td>\n",
       "      <td>7.800000e+04</td>\n",
       "      <td>0.000000</td>\n",
       "    </tr>\n",
       "    <tr>\n",
       "      <th>25%</th>\n",
       "      <td>3.000000</td>\n",
       "      <td>1.750000</td>\n",
       "      <td>1430.000000</td>\n",
       "      <td>5.040000e+03</td>\n",
       "      <td>1.000000</td>\n",
       "      <td>0.000000</td>\n",
       "      <td>0.000000</td>\n",
       "      <td>3.000000</td>\n",
       "      <td>7.000000</td>\n",
       "      <td>1952.000000</td>\n",
       "      <td>0.000000</td>\n",
       "      <td>3.225000e+05</td>\n",
       "      <td>0.000000</td>\n",
       "    </tr>\n",
       "    <tr>\n",
       "      <th>50%</th>\n",
       "      <td>3.000000</td>\n",
       "      <td>2.250000</td>\n",
       "      <td>1920.000000</td>\n",
       "      <td>7.614000e+03</td>\n",
       "      <td>1.500000</td>\n",
       "      <td>0.000000</td>\n",
       "      <td>0.000000</td>\n",
       "      <td>3.000000</td>\n",
       "      <td>7.000000</td>\n",
       "      <td>1975.000000</td>\n",
       "      <td>0.000000</td>\n",
       "      <td>4.500000e+05</td>\n",
       "      <td>0.000000</td>\n",
       "    </tr>\n",
       "    <tr>\n",
       "      <th>75%</th>\n",
       "      <td>4.000000</td>\n",
       "      <td>2.500000</td>\n",
       "      <td>2550.000000</td>\n",
       "      <td>1.069050e+04</td>\n",
       "      <td>2.000000</td>\n",
       "      <td>0.000000</td>\n",
       "      <td>0.000000</td>\n",
       "      <td>4.000000</td>\n",
       "      <td>8.000000</td>\n",
       "      <td>1997.000000</td>\n",
       "      <td>0.000000</td>\n",
       "      <td>6.450000e+05</td>\n",
       "      <td>1.000000</td>\n",
       "    </tr>\n",
       "    <tr>\n",
       "      <th>max</th>\n",
       "      <td>33.000000</td>\n",
       "      <td>8.000000</td>\n",
       "      <td>13540.000000</td>\n",
       "      <td>1.651359e+06</td>\n",
       "      <td>3.500000</td>\n",
       "      <td>1.000000</td>\n",
       "      <td>4.000000</td>\n",
       "      <td>5.000000</td>\n",
       "      <td>13.000000</td>\n",
       "      <td>2015.000000</td>\n",
       "      <td>2015.000000</td>\n",
       "      <td>7.700000e+06</td>\n",
       "      <td>1.000000</td>\n",
       "    </tr>\n",
       "  </tbody>\n",
       "</table>\n",
       "</div>"
      ],
      "text/plain": [
       "           bedrooms     bathrooms   sqft_living      sqft_lot        floors  \\\n",
       "count  21420.000000  21420.000000  21420.000000  2.142000e+04  21420.000000   \n",
       "mean       3.373950      2.118429   2083.132633  1.512804e+04      1.495985   \n",
       "std        0.925405      0.768720    918.808412  4.153080e+04      0.540081   \n",
       "min        1.000000      0.500000    370.000000  5.200000e+02      1.000000   \n",
       "25%        3.000000      1.750000   1430.000000  5.040000e+03      1.000000   \n",
       "50%        3.000000      2.250000   1920.000000  7.614000e+03      1.500000   \n",
       "75%        4.000000      2.500000   2550.000000  1.069050e+04      2.000000   \n",
       "max       33.000000      8.000000  13540.000000  1.651359e+06      3.500000   \n",
       "\n",
       "         waterfront         views  house_condition         grade  \\\n",
       "count  21420.000000  21420.000000     21420.000000  21420.000000   \n",
       "mean       0.007610      0.235107         3.410784      7.662792   \n",
       "std        0.086903      0.767165         0.650035      1.171971   \n",
       "min        0.000000      0.000000         1.000000      3.000000   \n",
       "25%        0.000000      0.000000         3.000000      7.000000   \n",
       "50%        0.000000      0.000000         3.000000      7.000000   \n",
       "75%        0.000000      0.000000         4.000000      8.000000   \n",
       "max        1.000000      4.000000         5.000000     13.000000   \n",
       "\n",
       "           yr_built  yr_renovated         price      basement  \n",
       "count  21420.000000  21420.000000  2.142000e+04  21420.000000  \n",
       "mean    1971.092997     84.793091  5.407393e+05      0.393137  \n",
       "std       29.387141    402.574626  3.679311e+05      0.488458  \n",
       "min     1900.000000      0.000000  7.800000e+04      0.000000  \n",
       "25%     1952.000000      0.000000  3.225000e+05      0.000000  \n",
       "50%     1975.000000      0.000000  4.500000e+05      0.000000  \n",
       "75%     1997.000000      0.000000  6.450000e+05      1.000000  \n",
       "max     2015.000000   2015.000000  7.700000e+06      1.000000  "
      ]
     },
     "execution_count": 21,
     "metadata": {},
     "output_type": "execute_result"
    }
   ],
   "source": [
    "num_df.describe()"
   ]
  },
  {
   "cell_type": "code",
   "execution_count": 22,
   "metadata": {
    "scrolled": true
   },
   "outputs": [
    {
     "name": "stderr",
     "output_type": "stream",
     "text": [
      "C:\\Users\\yelam\\anaconda3\\lib\\site-packages\\seaborn\\_decorators.py:36: FutureWarning: Pass the following variable as a keyword arg: x. From version 0.12, the only valid positional argument will be `data`, and passing other arguments without an explicit keyword will result in an error or misinterpretation.\n",
      "  warnings.warn(\n"
     ]
    },
    {
     "data": {
      "image/png": "[encoded data removed]",
      "text/plain": [
       "<Figure size 432x288 with 1 Axes>"
      ]
     },
     "metadata": {
      "needs_background": "light"
     },
     "output_type": "display_data"
    },
    {
     "name": "stderr",
     "output_type": "stream",
     "text": [
      "C:\\Users\\yelam\\anaconda3\\lib\\site-packages\\seaborn\\_decorators.py:36: FutureWarning: Pass the following variable as a keyword arg: x. From version 0.12, the only valid positional argument will be `data`, and passing other arguments without an explicit keyword will result in an error or misinterpretation.\n",
      "  warnings.warn(\n"
     ]
    },
    {
     "data": {
      "image/png": "[encoded data removed]",
      "text/plain": [
       "<Figure size 432x288 with 1 Axes>"
      ]
     },
     "metadata": {
      "needs_background": "light"
     },
     "output_type": "display_data"
    },
    {
     "name": "stderr",
     "output_type": "stream",
     "text": [
      "C:\\Users\\yelam\\anaconda3\\lib\\site-packages\\seaborn\\_decorators.py:36: FutureWarning: Pass the following variable as a keyword arg: x. From version 0.12, the only valid positional argument will be `data`, and passing other arguments without an explicit keyword will result in an error or misinterpretation.\n",
      "  warnings.warn(\n"
     ]
    },
    {
     "data": {
      "image/png": "[encoded data removed]",
      "text/plain": [
       "<Figure size 432x288 with 1 Axes>"
      ]
     },
     "metadata": {
      "needs_background": "light"
     },
     "output_type": "display_data"
    },
    {
     "name": "stderr",
     "output_type": "stream",
     "text": [
      "C:\\Users\\yelam\\anaconda3\\lib\\site-packages\\seaborn\\_decorators.py:36: FutureWarning: Pass the following variable as a keyword arg: x. From version 0.12, the only valid positional argument will be `data`, and passing other arguments without an explicit keyword will result in an error or misinterpretation.\n",
      "  warnings.warn(\n"
     ]
    },
    {
     "data": {
      "image/png": "[encoded data removed]",
      "text/plain": [
       "<Figure size 432x288 with 1 Axes>"
      ]
     },
     "metadata": {
      "needs_background": "light"
     },
     "output_type": "display_data"
    },
    {
     "name": "stderr",
     "output_type": "stream",
     "text": [
      "C:\\Users\\yelam\\anaconda3\\lib\\site-packages\\seaborn\\_decorators.py:36: FutureWarning: Pass the following variable as a keyword arg: x. From version 0.12, the only valid positional argument will be `data`, and passing other arguments without an explicit keyword will result in an error or misinterpretation.\n",
      "  warnings.warn(\n"
     ]
    },
    {
     "data": {
      "image/png": "[encoded data removed]",
      "text/plain": [
       "<Figure size 432x288 with 1 Axes>"
      ]
     },
     "metadata": {
      "needs_background": "light"
     },
     "output_type": "display_data"
    },
    {
     "name": "stderr",
     "output_type": "stream",
     "text": [
      "C:\\Users\\yelam\\anaconda3\\lib\\site-packages\\seaborn\\_decorators.py:36: FutureWarning: Pass the following variable as a keyword arg: x. From version 0.12, the only valid positional argument will be `data`, and passing other arguments without an explicit keyword will result in an error or misinterpretation.\n",
      "  warnings.warn(\n"
     ]
    },
    {
     "data": {
      "image/png": "[encoded data removed]",
      "text/plain": [
       "<Figure size 432x288 with 1 Axes>"
      ]
     },
     "metadata": {
      "needs_background": "light"
     },
     "output_type": "display_data"
    },
    {
     "name": "stderr",
     "output_type": "stream",
     "text": [
      "C:\\Users\\yelam\\anaconda3\\lib\\site-packages\\seaborn\\_decorators.py:36: FutureWarning: Pass the following variable as a keyword arg: x. From version 0.12, the only valid positional argument will be `data`, and passing other arguments without an explicit keyword will result in an error or misinterpretation.\n",
      "  warnings.warn(\n"
     ]
    },
    {
     "data": {
      "image/png": "[encoded data removed]",
      "text/plain": [
       "<Figure size 432x288 with 1 Axes>"
      ]
     },
     "metadata": {
      "needs_background": "light"
     },
     "output_type": "display_data"
    },
    {
     "name": "stderr",
     "output_type": "stream",
     "text": [
      "C:\\Users\\yelam\\anaconda3\\lib\\site-packages\\seaborn\\_decorators.py:36: FutureWarning: Pass the following variable as a keyword arg: x. From version 0.12, the only valid positional argument will be `data`, and passing other arguments without an explicit keyword will result in an error or misinterpretation.\n",
      "  warnings.warn(\n"
     ]
    },
    {
     "data": {
      "image/png": "[encoded data removed]",
      "text/plain": [
       "<Figure size 432x288 with 1 Axes>"
      ]
     },
     "metadata": {
      "needs_background": "light"
     },
     "output_type": "display_data"
    },
    {
     "name": "stderr",
     "output_type": "stream",
     "text": [
      "C:\\Users\\yelam\\anaconda3\\lib\\site-packages\\seaborn\\_decorators.py:36: FutureWarning: Pass the following variable as a keyword arg: x. From version 0.12, the only valid positional argument will be `data`, and passing other arguments without an explicit keyword will result in an error or misinterpretation.\n",
      "  warnings.warn(\n"
     ]
    },
    {
     "data": {
      "image/png": "[encoded data removed]",
      "text/plain": [
       "<Figure size 432x288 with 1 Axes>"
      ]
     },
     "metadata": {
      "needs_background": "light"
     },
     "output_type": "display_data"
    },
    {
     "name": "stderr",
     "output_type": "stream",
     "text": [
      "C:\\Users\\yelam\\anaconda3\\lib\\site-packages\\seaborn\\_decorators.py:36: FutureWarning: Pass the following variable as a keyword arg: x. From version 0.12, the only valid positional argument will be `data`, and passing other arguments without an explicit keyword will result in an error or misinterpretation.\n",
      "  warnings.warn(\n"
     ]
    },
    {
     "data": {
      "image/png": "[encoded data removed]",
      "text/plain": [
       "<Figure size 432x288 with 1 Axes>"
      ]
     },
     "metadata": {
      "needs_background": "light"
     },
     "output_type": "display_data"
    },
    {
     "name": "stderr",
     "output_type": "stream",
     "text": [
      "C:\\Users\\yelam\\anaconda3\\lib\\site-packages\\seaborn\\_decorators.py:36: FutureWarning: Pass the following variable as a keyword arg: x. From version 0.12, the only valid positional argument will be `data`, and passing other arguments without an explicit keyword will result in an error or misinterpretation.\n",
      "  warnings.warn(\n"
     ]
    },
    {
     "data": {
      "image/png": "[encoded data removed]",
      "text/plain": [
       "<Figure size 432x288 with 1 Axes>"
      ]
     },
     "metadata": {
      "needs_background": "light"
     },
     "output_type": "display_data"
    },
    {
     "name": "stderr",
     "output_type": "stream",
     "text": [
      "C:\\Users\\yelam\\anaconda3\\lib\\site-packages\\seaborn\\_decorators.py:36: FutureWarning: Pass the following variable as a keyword arg: x. From version 0.12, the only valid positional argument will be `data`, and passing other arguments without an explicit keyword will result in an error or misinterpretation.\n",
      "  warnings.warn(\n"
     ]
    },
    {
     "data": {
      "image/png": "[encoded data removed]",
      "text/plain": [
       "<Figure size 432x288 with 1 Axes>"
      ]
     },
     "metadata": {
      "needs_background": "light"
     },
     "output_type": "display_data"
    },
    {
     "name": "stderr",
     "output_type": "stream",
     "text": [
      "C:\\Users\\yelam\\anaconda3\\lib\\site-packages\\seaborn\\_decorators.py:36: FutureWarning: Pass the following variable as a keyword arg: x. From version 0.12, the only valid positional argument will be `data`, and passing other arguments without an explicit keyword will result in an error or misinterpretation.\n",
      "  warnings.warn(\n"
     ]
    },
    {
     "data": {
      "image/png": "[encoded data removed]",
      "text/plain": [
       "<Figure size 432x288 with 1 Axes>"
      ]
     },
     "metadata": {
      "needs_background": "light"
     },
     "output_type": "display_data"
    }
   ],
   "source": [
    "for i in num_df.columns:\n",
    "    sns.boxplot(num_df[i])\n",
    "    plt.show()"
   ]
  },
  {
   "cell_type": "code",
   "execution_count": 23,
   "metadata": {},
   "outputs": [
    {
     "data": {
      "text/plain": [
       "21420"
      ]
     },
     "execution_count": 23,
     "metadata": {},
     "output_type": "execute_result"
    }
   ],
   "source": [
    "len(cont_df)"
   ]
  },
  {
   "cell_type": "code",
   "execution_count": 24,
   "metadata": {},
   "outputs": [],
   "source": [
    "Q1 = num_df.quantile(0.25)\n",
    "Q3 = num_df.quantile(0.75)\n",
    "IQR = Q3 - Q1"
   ]
  },
  {
   "cell_type": "markdown",
   "metadata": {},
   "source": [
    "Checking how many outliers there are per column. I can compare with the length of cont_df."
   ]
  },
  {
   "cell_type": "code",
   "execution_count": 25,
   "metadata": {},
   "outputs": [
    {
     "data": {
      "text/plain": [
       "bedrooms            518\n",
       "bathrooms           558\n",
       "sqft_living         568\n",
       "sqft_lot           2406\n",
       "floors                0\n",
       "waterfront          163\n",
       "views              2114\n",
       "house_condition      28\n",
       "grade              1889\n",
       "yr_built              0\n",
       "yr_renovated        910\n",
       "price              1151\n",
       "basement              0\n",
       "dtype: int64"
      ]
     },
     "execution_count": 25,
     "metadata": {},
     "output_type": "execute_result"
    }
   ],
   "source": [
    "((num_df < (Q1 - 1.5 * IQR)) | (num_df > (Q3 + 1.5 * IQR))).sum()"
   ]
  },
  {
   "cell_type": "markdown",
   "metadata": {},
   "source": [
    "##### The previous method does not take into account the lower whiskers. Let's check how many outliers we really have:"
   ]
  },
  {
   "cell_type": "code",
   "execution_count": 31,
   "metadata": {},
   "outputs": [],
   "source": [
    "outlier_df = num_df.drop(['floors', 'yr_built', 'yr_renovated', 'basement'], axis=1)"
   ]
  },
  {
   "cell_type": "code",
   "execution_count": 32,
   "metadata": {
    "scrolled": true
   },
   "outputs": [
    {
     "name": "stdout",
     "output_type": "stream",
     "text": [
      "For column bedrooms:\n",
      "the upper wisker is at: 5.50\n",
      "the lower wisker is at: 2.50\n",
      "the number of points outise the upper wisker is:  327\n",
      "the number of points outise the lower wisker is:  2927\n",
      "For column bathrooms:\n",
      "the upper wisker is at: 3.62\n",
      "the lower wisker is at: 1.38\n",
      "the number of points outise the upper wisker is:  554\n",
      "the number of points outise the lower wisker is:  3877\n",
      "For column sqft_living:\n",
      "the upper wisker is at: 4230.00\n",
      "the lower wisker is at: 870.00\n",
      "the number of points outise the upper wisker is:  568\n",
      "the number of points outise the lower wisker is:  716\n",
      "For column sqft_lot:\n",
      "the upper wisker is at: 19166.25\n",
      "the lower wisker is at: 2214.75\n",
      "the number of points outise the upper wisker is:  2406\n",
      "the number of points outise the lower wisker is:  1315\n",
      "For column waterfront:\n",
      "the upper wisker is at: 0.00\n",
      "the lower wisker is at: 0.00\n",
      "the number of points outise the upper wisker is:  163\n",
      "the number of points outise the lower wisker is:  0\n",
      "For column views:\n",
      "the upper wisker is at: 0.00\n",
      "the lower wisker is at: 0.00\n",
      "the number of points outise the upper wisker is:  2114\n",
      "the number of points outise the lower wisker is:  0\n",
      "For column house_condition:\n",
      "the upper wisker is at: 5.50\n",
      "the lower wisker is at: 2.50\n",
      "the number of points outise the upper wisker is:  0\n",
      "the number of points outise the lower wisker is:  190\n",
      "For column grade:\n",
      "the upper wisker is at: 9.50\n",
      "the lower wisker is at: 6.50\n",
      "the number of points outise the upper wisker is:  1627\n",
      "the number of points outise the lower wisker is:  2257\n",
      "For column price:\n",
      "the upper wisker is at: 1128750.00\n",
      "the lower wisker is at: 161250.00\n",
      "the number of points outise the upper wisker is:  1151\n",
      "the number of points outise the lower wisker is:  281\n"
     ]
    }
   ],
   "source": [
    "for col in outlier_df.columns:\n",
    "    iqr = np.percentile(outlier_df[col],75) - np.percentile(outlier_df[col],25)\n",
    "    upper_limit = np.percentile(outlier_df[col],75) + 1.5*iqr\n",
    "    lower_limit = np.percentile(outlier_df[col],75) - 1.5*iqr\n",
    "    print(\"For column {}:\".format(col))\n",
    "    print(\"the upper wisker is at: %4.2f\" % upper_limit)\n",
    "    print(\"the lower wisker is at: %4.2f\" % lower_limit)\n",
    "    outliers_upper = outlier_df[outlier_df[col] > upper_limit].index.tolist()\n",
    "    outliers_lower = outlier_df[outlier_df[col] < lower_limit].index.tolist()\n",
    "    print(\"the number of points outise the upper wisker is: \",len(outliers_upper))\n",
    "    print(\"the number of points outise the lower wisker is: \",len(outliers_lower))"
   ]
  },
  {
   "cell_type": "markdown",
   "metadata": {},
   "source": [
    "##### yr_renovated is not counted because all properties with a renovation date are considered outliers.\n",
    "##### In a future step, it might prove useful to create a column marking which properties are outliers and which are not."
   ]
  },
  {
   "cell_type": "markdown",
   "metadata": {},
   "source": [
    "### Checking distributions"
   ]
  },
  {
   "cell_type": "code",
   "execution_count": null,
   "metadata": {
    "scrolled": false
   },
   "outputs": [],
   "source": [
    "for i in cont_df.columns:\n",
    "    sns.histplot(cont_df[i])\n",
    "    plt.show()"
   ]
  },
  {
   "cell_type": "markdown",
   "metadata": {},
   "source": [
    "### Data transformation: LOG \n",
    "The plots are positively skewed (therefore LOG transformation is appropriate). In previous iterations I used a Box-Cox transformation and a LOG transformation. The model performed slightly better with a LOG transformation, leading me to skip the Box-Cox.\n",
    "\n",
    "We can see that the transformation has approximated all continuous values towards a more normal distribution."
   ]
  },
  {
   "cell_type": "code",
   "execution_count": null,
   "metadata": {},
   "outputs": [],
   "source": [
    "def log_transform(x):\n",
    "    if np.isfinite(x) and x!=0: \n",
    "        return np.log(x)\n",
    "    else:\n",
    "        return np.NAN # We are returning NaNs so that we can replace them later"
   ]
  },
  {
   "cell_type": "code",
   "execution_count": null,
   "metadata": {},
   "outputs": [],
   "source": [
    "cont_df_log = cont_df.applymap(log_transform)\n",
    "cont_df_log.head()"
   ]
  },
  {
   "cell_type": "code",
   "execution_count": null,
   "metadata": {
    "scrolled": false
   },
   "outputs": [],
   "source": [
    "for i in cont_df_log.columns:\n",
    "    sns.histplot(cont_df_log[i])\n",
    "    plt.show()"
   ]
  },
  {
   "cell_type": "markdown",
   "metadata": {},
   "source": [
    "### Categorical columns\n",
    "I will dummify zipcode, the only categorical column. I previously dropped latitude and longitude because zipcode was giving more useful data for the model and otherwise there would be an information overlap."
   ]
  },
  {
   "cell_type": "code",
   "execution_count": null,
   "metadata": {},
   "outputs": [],
   "source": [
    "dummy_data = pd.get_dummies(cat_df, columns=['zipcode'],drop_first=True)\n",
    "dummy_data.head()"
   ]
  },
  {
   "cell_type": "markdown",
   "metadata": {},
   "source": [
    "### Concatenating data"
   ]
  },
  {
   "cell_type": "code",
   "execution_count": null,
   "metadata": {},
   "outputs": [],
   "source": [
    "data_concat = pd.concat([cont_df_log,disc_df,dummy_data], axis=1)\n",
    "data_concat.head()"
   ]
  },
  {
   "cell_type": "markdown",
   "metadata": {},
   "source": [
    "### Split data between dependent and independent variables\n",
    "Remember that a LOG transformation was performed to the dependent variable 'price'. This will have to be undone after getting the predictions."
   ]
  },
  {
   "cell_type": "code",
   "execution_count": null,
   "metadata": {},
   "outputs": [],
   "source": [
    "y = data_concat[['price']]\n",
    "X = data_concat.drop(['price'], axis=1)"
   ]
  },
  {
   "cell_type": "markdown",
   "metadata": {},
   "source": [
    "### Standardizing data\n",
    "In previous tests I saw that standardizing, instead of normalizing, slightly improved all three models tested."
   ]
  },
  {
   "cell_type": "code",
   "execution_count": null,
   "metadata": {},
   "outputs": [],
   "source": [
    "transformer = StandardScaler().fit(X)\n",
    "x_standarized = transformer.transform(X)\n",
    "x_standarized = pd.DataFrame(x_standarized)"
   ]
  },
  {
   "cell_type": "markdown",
   "metadata": {},
   "source": [
    "# 6. Building Model"
   ]
  },
  {
   "cell_type": "markdown",
   "metadata": {},
   "source": [
    "#### Split data into train and test sets."
   ]
  },
  {
   "cell_type": "code",
   "execution_count": null,
   "metadata": {},
   "outputs": [],
   "source": [
    "X_train, X_test, y_train, y_test = train_test_split(x_standarized, y, test_size=0.3, random_state=100)"
   ]
  },
  {
   "cell_type": "markdown",
   "metadata": {},
   "source": [
    "#### Fitting the model and getting predictions."
   ]
  },
  {
   "cell_type": "code",
   "execution_count": null,
   "metadata": {},
   "outputs": [],
   "source": [
    "lm = linear_model.LinearRegression()\n",
    "lm_model = lm.fit(X_train, y_train)"
   ]
  },
  {
   "cell_type": "code",
   "execution_count": null,
   "metadata": {},
   "outputs": [],
   "source": [
    "lm_predictions = lm_model.predict(X_test)"
   ]
  },
  {
   "cell_type": "markdown",
   "metadata": {},
   "source": [
    "#### I invert the LOG transformation which was previously applied to the target variable. "
   ]
  },
  {
   "cell_type": "code",
   "execution_count": null,
   "metadata": {},
   "outputs": [],
   "source": [
    "lm_predictions_exp = np.exp(lm_predictions)\n",
    "y_test_exp = np.exp(y_test)"
   ]
  },
  {
   "cell_type": "code",
   "execution_count": null,
   "metadata": {},
   "outputs": [],
   "source": [
    "y_test_exp"
   ]
  },
  {
   "cell_type": "markdown",
   "metadata": {},
   "source": [
    "#### Error metrics"
   ]
  },
  {
   "cell_type": "code",
   "execution_count": null,
   "metadata": {},
   "outputs": [],
   "source": [
    "#RE = (lm_predictions-y_test)/y_test\n",
    "MAE = mean_absolute_error(y_test_exp,lm_predictions_exp)\n",
    "MSE = mean_squared_error(y_test_exp,lm_predictions_exp)\n",
    "RMSE = np.sqrt(MSE)\n",
    "R2 = r2_score(y_test_exp,lm_predictions_exp)\n",
    "\n",
    "def mape(real, predicted):\n",
    "    actual, pred = np.array(real), np.array(predicted)\n",
    "    return np.mean(np.abs((real - predicted) / real)) * 100\n",
    "\n",
    "MAPE = mape(y_test_exp, lm_predictions_exp)\n",
    "\n",
    "#print(\"The relative error of the model in the test set is: %6.2f\" % (RE))\n",
    "print(\"The mean absolute error of the model in the test set is: %6.2f\" % (MAE))\n",
    "print(\"The mean squared error of the model in the test set is: %6.2f\" % (MSE))\n",
    "print(\"The root mean squared error of the model in the test set is: %6.2f\" % (RMSE))\n",
    "print(\"The R2 of the model in the test set is: %4.2f\" % (R2))\n",
    "print(\"The mean absolute percentage error of the model in the test set is: %4.2f\" % (MAPE))"
   ]
  },
  {
   "cell_type": "code",
   "execution_count": null,
   "metadata": {},
   "outputs": [],
   "source": [
    "def RE(real, predicted):\n",
    "    actual, pred = np.array(real), np.array(predicted)\n",
    "    return np.abs((real - predicted) / real)*100"
   ]
  },
  {
   "cell_type": "code",
   "execution_count": null,
   "metadata": {
    "scrolled": false
   },
   "outputs": [],
   "source": [
    "relative_errors = RE(y_test_exp, lm_predictions_exp)"
   ]
  },
  {
   "cell_type": "code",
   "execution_count": null,
   "metadata": {},
   "outputs": [],
   "source": [
    "relative_errors"
   ]
  },
  {
   "cell_type": "code",
   "execution_count": null,
   "metadata": {},
   "outputs": [],
   "source": [
    "sns.displot(relative_errors)\n",
    "\n",
    "plt.show()"
   ]
  },
  {
   "cell_type": "markdown",
   "metadata": {},
   "source": [
    "#### Plot of predictions against real values\n",
    "We can see that there is a clear linear relationship. Ideally we would get a line. We can see that outliers are probably hurting the model."
   ]
  },
  {
   "cell_type": "code",
   "execution_count": null,
   "metadata": {
    "scrolled": true
   },
   "outputs": [],
   "source": [
    "plt.scatter(x=y_test_exp, y=lm_predictions_exp)\n",
    "\n",
    "plt.title('Linear regression model')\n",
    "plt.xlabel('Real Price')\n",
    "plt.ylabel('Predicted Price')\n",
    "plt.show()"
   ]
  },
  {
   "cell_type": "code",
   "execution_count": null,
   "metadata": {},
   "outputs": [],
   "source": [
    "sns.regplot(x=y_test_exp, y=lm_predictions_exp)\n",
    "plt.title('Ernesto - Linear regression model - R2=0.88')\n",
    "plt.xlabel('Real Price')\n",
    "plt.ylabel('Predicted Price')\n",
    "plt.savefig('plot.png', dpi=300, bbox_inches='tight')\n",
    "plt.show()"
   ]
  },
  {
   "cell_type": "markdown",
   "metadata": {},
   "source": [
    "#### I make a dataframe of my predictions and real prices (y_test_exp)"
   ]
  },
  {
   "cell_type": "code",
   "execution_count": null,
   "metadata": {},
   "outputs": [],
   "source": [
    "lm_predictions_df = pd.DataFrame(lm_predictions_exp)"
   ]
  },
  {
   "cell_type": "code",
   "execution_count": null,
   "metadata": {},
   "outputs": [],
   "source": [
    "lm_predictions_df = lm_predictions_df.rename(columns = {0:'predicted_price'})"
   ]
  },
  {
   "cell_type": "code",
   "execution_count": null,
   "metadata": {},
   "outputs": [],
   "source": [
    "lm_predictions_df = lm_predictions_df.round(1)"
   ]
  },
  {
   "cell_type": "code",
   "execution_count": null,
   "metadata": {},
   "outputs": [],
   "source": [
    "y_test_exp_df = pd.DataFrame(y_test_exp).reset_index()"
   ]
  },
  {
   "cell_type": "markdown",
   "metadata": {},
   "source": [
    "#### I merge both dataframes to be able to compare"
   ]
  },
  {
   "cell_type": "code",
   "execution_count": null,
   "metadata": {},
   "outputs": [],
   "source": [
    "comparison = y_test_exp_df.merge(lm_predictions_df, left_index=True, right_index=True)"
   ]
  },
  {
   "cell_type": "code",
   "execution_count": null,
   "metadata": {
    "scrolled": false
   },
   "outputs": [],
   "source": [
    "comparison.head()"
   ]
  },
  {
   "cell_type": "markdown",
   "metadata": {},
   "source": [
    "##### I manually check Mean Absolute Error of resulting dataframe to make sure that the index positions have remained the same:"
   ]
  },
  {
   "cell_type": "code",
   "execution_count": null,
   "metadata": {},
   "outputs": [],
   "source": [
    "sum(abs(np.array(comparison['price'])-np.array(comparison['predicted_price'])))/len(comparison)"
   ]
  },
  {
   "cell_type": "markdown",
   "metadata": {},
   "source": [
    "# 7. Conclusions and next steps"
   ]
  },
  {
   "cell_type": "markdown",
   "metadata": {},
   "source": [
    "• The R2 is below .90, although it came very close. "
   ]
  },
  {
   "cell_type": "markdown",
   "metadata": {},
   "source": [
    "• The model will be relatively good at predicting normally priced houses. The challenge will come with higher priced properties."
   ]
  },
  {
   "cell_type": "markdown",
   "metadata": {},
   "source": [
    "• There are some variables that seem to influence the elevated price of the exclusive properties from our dataset:"
   ]
  },
  {
   "cell_type": "markdown",
   "metadata": {},
   "source": [
    "    Size matters! sqft_living and sqft_plot determine the price of houses, and directly related to the size of the house\n",
    "    and plot, houses with high amounts of bedrooms and bathrooms tend to indicate more expensive houses. "
   ]
  },
  {
   "cell_type": "markdown",
   "metadata": {},
   "source": [
    "    Labels are also very important in distinguishing the most exclusive properties. Waterfront, Views and Grade are \n",
    "    expensive house indicators."
   ]
  },
  {
   "cell_type": "markdown",
   "metadata": {},
   "source": [
    "• A necessary next step would be to establish clear parameters for expensive houses. By tagging exclusive properties, we can compare the predictions with real prices to determine the error of the model for these specific houses. "
   ]
  },
  {
   "cell_type": "markdown",
   "metadata": {},
   "source": [
    "• Another option would be to create 2 independent models (and 2 dataframes), one for \"normal\" houses and one for \"exclusive\" houses. "
   ]
  },
  {
   "cell_type": "markdown",
   "metadata": {},
   "source": [
    "• If keeping one dataframe, we could make an extra model from the outliers in the train set in order to teach the first model how to best predict higher values houses. "
   ]
  }
 ],
 "metadata": {
  "kernelspec": {
   "display_name": "Python 3",
   "language": "python",
   "name": "python3"
  },
  "language_info": {
   "codemirror_mode": {
    "name": "ipython",
    "version": 3
   },
   "file_extension": ".py",
   "mimetype": "text/x-python",
   "name": "python",
   "nbconvert_exporter": "python",
   "pygments_lexer": "ipython3",
   "version": "3.8.3"
  }
 },
 "nbformat": 4,
 "nbformat_minor": 4
}
